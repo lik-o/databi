{
 "cells": [
  {
   "cell_type": "markdown",
   "id": "a06eae28-bfec-4bfc-9027-8fcf43337eb1",
   "metadata": {},
   "source": [
    "## 第三讲：栈和队列"
   ]
  },
  {
   "cell_type": "markdown",
   "id": "19151d01-963d-4f9f-b4cb-d6c17c0e232b",
   "metadata": {},
   "source": [
    "### 3.1.2 栈的顺序存储及其基本操作的实现\n",
    "* 进栈"
   ]
  },
  {
   "cell_type": "code",
   "execution_count": 10,
   "id": "10936070-2ae3-465c-b439-5f85416870ad",
   "metadata": {},
   "outputs": [
    {
     "name": "stdout",
     "output_type": "stream",
     "text": [
      "----请选择操作方式----\n",
      "----0.退出\n",
      "----1.入栈\n",
      "1\n",
      "请输入入栈元素6\n",
      "[1, 2, 3, 4, 5, 6]\n",
      "----请选择操作方式----\n",
      "----0.退出\n",
      "----1.入栈\n",
      "0\n"
     ]
    }
   ],
   "source": [
    "class Stack(object):\n",
    "    \n",
    "    def __init__(self,size):\n",
    "        self.MAX = size\n",
    "        self.s = []\n",
    "        self.top = 0  # top = 0表示为空\n",
    "        \n",
    "    def stackFull(self):\n",
    "        if self.top == self.MAX:\n",
    "            return True\n",
    "        else:\n",
    "            return False\n",
    "            \n",
    "    def push(self,x):\n",
    "        if self.stackFull():\n",
    "            print(\"栈已经满，不能进行入栈操作\")\n",
    "        else:\n",
    "            self.s.append(x) #利用list数据格式的插入操作\n",
    "            #self.s[self.top:]= [x] #利用顺序表索引的插入切片操作\n",
    "            #self.s.insert(self.top,x) #利用了自定义的insert函数，需要两个参数，插入的位置和插入的数据\n",
    "            self.top = self.top + 1\n",
    "\n",
    "if __name__ == '__main__':\n",
    "    s = Stack(6)\n",
    "    s.s = [1,2,3,4,5]\n",
    "    s.top=len(s.s)\n",
    "    while True:\n",
    "        print(\"----请选择操作方式----\")\n",
    "        print(\"----0.退出\\n----1.入栈\")\n",
    "        number = int(input())\n",
    "        if number == 1:\n",
    "            x = eval(input(\"请输入入栈元素\"))\n",
    "            s.push(x)\n",
    "            print(s.s)\n",
    "        elif number == 0:\n",
    "            break"
   ]
  },
  {
   "cell_type": "markdown",
   "id": "dc2c2ddf-a75c-4977-8f12-1e4da3eb9884",
   "metadata": {},
   "source": [
    "### 3.1.2 栈的顺序存储及其基本操作的实现\n",
    "* 出栈"
   ]
  },
  {
   "cell_type": "code",
   "execution_count": 11,
   "id": "86b3a613-089a-47d3-9a79-0c4d07322e94",
   "metadata": {},
   "outputs": [
    {
     "name": "stdout",
     "output_type": "stream",
     "text": [
      "----请选择操作方式----\n",
      "----0.退出\n",
      "----2.出栈\n",
      "2\n",
      "5\n",
      "----请选择操作方式----\n",
      "----0.退出\n",
      "----2.出栈\n",
      "2\n",
      "4\n",
      "----请选择操作方式----\n",
      "----0.退出\n",
      "----2.出栈\n",
      "2\n",
      "3\n",
      "----请选择操作方式----\n",
      "----0.退出\n",
      "----2.出栈\n",
      "2\n",
      "2\n",
      "----请选择操作方式----\n",
      "----0.退出\n",
      "----2.出栈\n",
      "2\n",
      "1\n",
      "----请选择操作方式----\n",
      "----0.退出\n",
      "----2.出栈\n",
      "2\n",
      "栈为空，不能进行出栈操作\n",
      "None\n",
      "----请选择操作方式----\n",
      "----0.退出\n",
      "----2.出栈\n",
      "0\n"
     ]
    }
   ],
   "source": [
    "class Stack(object):\n",
    "    \n",
    "    def __init__(self,size):\n",
    "        self.MAX = size\n",
    "        self.s = []\n",
    "        self.top = 0  # top = 0表示为空\n",
    "        \n",
    "    def stackEmpty(self):\n",
    "        if self.top == 0:\n",
    "            return True\n",
    "        else:\n",
    "            return False\n",
    "            \n",
    "    def pop(self):\n",
    "        if self.stackEmpty():\n",
    "            print(\"栈为空，不能进行出栈操作\")\n",
    "        else:\n",
    "            self.top = self.top - 1\n",
    "            tem = self.s[s.top]\n",
    "            del self.s[self.top]\n",
    "            return tem\n",
    "            #return self.s.pop()\n",
    "\n",
    "if __name__ == '__main__':\n",
    "    s = Stack(6)\n",
    "    s.s = [1,2,3,4,5]\n",
    "    s.top = len(s.s)\n",
    "    while True:\n",
    "        print(\"----请选择操作方式----\")\n",
    "        print(\"----0.退出\\n----2.出栈\")\n",
    "        number = int(input())\n",
    "        if number == 2:\n",
    "            print(s.pop())\n",
    "        elif number == 0:\n",
    "            break"
   ]
  },
  {
   "cell_type": "markdown",
   "id": "c80f6f18-a2f0-42df-8c84-8dbc7bff1d5b",
   "metadata": {},
   "source": [
    "### 3.1.2 栈的顺序存储及其基本操作的实现\n",
    "* 进栈（**双栈**）"
   ]
  },
  {
   "cell_type": "code",
   "execution_count": 14,
   "id": "56c5f972-ba4c-4974-adff-e71137ab82b4",
   "metadata": {},
   "outputs": [
    {
     "name": "stdout",
     "output_type": "stream",
     "text": [
      "['null', 'null', 'null', 'null', 'null', 'null', 'null', 'null', 'null', 'null']\n",
      "----请选择操作方式----\n",
      "----0.退出\n",
      "----1.入栈\n"
     ]
    },
    {
     "name": "stdin",
     "output_type": "stream",
     "text": [
      " 1\n",
      "请输入入栈元素给x: 1\n",
      "请输入1或者2，选择对哪个栈操作 1\n"
     ]
    },
    {
     "name": "stdout",
     "output_type": "stream",
     "text": [
      "[1, 'null', 'null', 'null', 'null', 'null', 'null', 'null', 'null', 'null']\n",
      "----请选择操作方式----\n",
      "----0.退出\n",
      "----1.入栈\n"
     ]
    },
    {
     "name": "stdin",
     "output_type": "stream",
     "text": [
      " 1\n",
      "请输入入栈元素给x: 2\n",
      "请输入1或者2，选择对哪个栈操作 2\n"
     ]
    },
    {
     "name": "stdout",
     "output_type": "stream",
     "text": [
      "[1, 'null', 'null', 'null', 'null', 'null', 'null', 'null', 'null', 2]\n",
      "----请选择操作方式----\n",
      "----0.退出\n",
      "----1.入栈\n"
     ]
    },
    {
     "name": "stdin",
     "output_type": "stream",
     "text": [
      " 1\n",
      "请输入入栈元素给x: 3\n",
      "请输入1或者2，选择对哪个栈操作 1\n"
     ]
    },
    {
     "name": "stdout",
     "output_type": "stream",
     "text": [
      "[1, 3, 'null', 'null', 'null', 'null', 'null', 'null', 'null', 2]\n",
      "----请选择操作方式----\n",
      "----0.退出\n",
      "----1.入栈\n"
     ]
    },
    {
     "name": "stdin",
     "output_type": "stream",
     "text": [
      " 1\n",
      "请输入入栈元素给x: 4\n",
      "请输入1或者2，选择对哪个栈操作 2\n"
     ]
    },
    {
     "name": "stdout",
     "output_type": "stream",
     "text": [
      "[1, 3, 'null', 'null', 'null', 'null', 'null', 'null', 4, 2]\n",
      "----请选择操作方式----\n",
      "----0.退出\n",
      "----1.入栈\n"
     ]
    },
    {
     "name": "stdin",
     "output_type": "stream",
     "text": [
      " 0\n"
     ]
    }
   ],
   "source": [
    "class Doublestack(object):\n",
    "    \n",
    "    def __init__(self,size):\n",
    "        self.s = ['null' for i in range(size)]\n",
    "        self.MAX = size\n",
    "        self.t1 = 0\n",
    "        self.t2 = size - 1\n",
    "\n",
    "    def StackFull(self):\n",
    "        if self.t1 == self.t2 + 1:\n",
    "            print(\"共享空间栈已满\")\n",
    "            return True\n",
    "        else:\n",
    "            return False\n",
    "\n",
    "    def StackPush(self, flag, data):\n",
    "        if self.StackFull():\n",
    "            print(\"栈满，无法添加数据\")\n",
    "        else:\n",
    "            if flag == 1:\n",
    "                self.s[self.t1] = data\n",
    "                self.t1 +=1\n",
    "            else:\n",
    "                self.s[self.t2] = data\n",
    "                self.t2 -=1\n",
    "\n",
    "if __name__ == '__main__':\n",
    "    s = Doublestack(10)\n",
    "    print(s.s)\n",
    "    while True:\n",
    "        print(\"----请选择操作方式----\")\n",
    "        print(\"----0.退出\\n----1.入栈\")\n",
    "        number = int(input())\n",
    "        if number == 1:\n",
    "            x = eval(input(\"请输入入栈元素给x:\"))\n",
    "            i = eval(input(\"请输入1或者2，选择对哪个栈操作\"))\n",
    "            s.StackPush(i,x)\n",
    "            print(s.s)\n",
    "        elif number == 0:\n",
    "            break"
   ]
  },
  {
   "cell_type": "markdown",
   "id": "4f5d6b84-e56c-44d1-9bda-f26bc8c71545",
   "metadata": {},
   "source": [
    "### 3.1.2 栈的顺序存储及其基本操作的实现\n",
    "* 出栈（**双栈**）"
   ]
  },
  {
   "cell_type": "code",
   "execution_count": null,
   "id": "e717d8cb-c357-4663-a9aa-e1f15f862c3f",
   "metadata": {},
   "outputs": [
    {
     "name": "stdout",
     "output_type": "stream",
     "text": [
      "共享空间栈为空\n",
      "[34, 56, 78, 'null', 'null', 'null', 'null', 'null', 45, 90]\n",
      "----请选择操作方式----\n",
      "----0.退出\n",
      "----2.出栈\n",
      "2\n",
      "请输入1或者2，选择对哪个栈操作2\n",
      "出栈元素是 45, 来自于栈2\n",
      "[34, 56, 78, 'null', 'null', 'null', 'null', 'null', 'null', 90]\n",
      "----请选择操作方式----\n",
      "----0.退出\n",
      "----2.出栈\n"
     ]
    }
   ],
   "source": [
    "class Doublestack(object):\n",
    "    \n",
    "    def __init__(self,size):\n",
    "        self.s = ['null' for i in range(size)]\n",
    "        self.MAX = size\n",
    "        self.t1 = 0\n",
    "        self.t2 = size - 1\n",
    "\n",
    "    def StackEmpty(self):\n",
    "        if (self.t1 == 0 and self.t2 == self.MAX - 1):\n",
    "            print(\"共享空间栈为空\")\n",
    "            return True\n",
    "        else: \n",
    "            return False\n",
    "\n",
    "    def StackPop(self,flag):\n",
    "        if flag == 1:\n",
    "            if self.t1 == 0:\n",
    "                print(\"栈1为空\")\n",
    "            else:\n",
    "                self.t1 -=1\n",
    "                popped= self.s[self.t1]\n",
    "                self.s[self.t1] = 'null'\n",
    "                print(\"出栈元素是%s, 来自于栈1\" % popped) #优化输出\n",
    "        else:\n",
    "            if self.t2 == self.MAX - 1:\n",
    "                print(\"栈2为空\")\n",
    "            else:\n",
    "                self.t2 +=1\n",
    "                popped= self.s[self.t2]\n",
    "                self.s[self.t2] = 'null'\n",
    "                print(\"出栈元素是%s, 来自于栈2\" % popped) #优化输出\n",
    "\n",
    "if __name__ == '__main__':\n",
    "    s = Doublestack(10)\n",
    "    s.StackEmpty()\n",
    "    s.s = [34,56,78,'null','null','null','null','null',45,90]\n",
    "    print(s.s)\n",
    "    s.t1 = 3\n",
    "    s.t2 = 7\n",
    "    while True:\n",
    "        print(\"----请选择操作方式----\")\n",
    "        print(\"----0.退出\\n----2.出栈\")\n",
    "        number = int(input())\n",
    "        if number == 2:\n",
    "            i = eval(input(\"请输入1或者2，选择对哪个栈操作\"))\n",
    "            s.StackPop(i)\n",
    "            print(s.s)\n",
    "        elif number == 0:\n",
    "            break"
   ]
  },
  {
   "cell_type": "markdown",
   "id": "6d915018-d1d0-4211-989d-6b2e1c921d6f",
   "metadata": {},
   "source": [
    "## 3.1.3 栈的链式存储及其基本操作的实现\n",
    "* 进栈"
   ]
  },
  {
   "cell_type": "code",
   "execution_count": 25,
   "id": "3920ba58-8ff0-4945-b47a-6f2c681cfcc1",
   "metadata": {},
   "outputs": [
    {
     "name": "stdout",
     "output_type": "stream",
     "text": [
      "----请选择操作方式----\n",
      "----0.退出\n",
      "----3.进栈\n"
     ]
    },
    {
     "name": "stdin",
     "output_type": "stream",
     "text": [
      " 3\n",
      "请输入进栈元素给x 23\n"
     ]
    },
    {
     "name": "stdout",
     "output_type": "stream",
     "text": [
      "[23]\n",
      "----请选择操作方式----\n",
      "----0.退出\n",
      "----3.进栈\n"
     ]
    },
    {
     "name": "stdin",
     "output_type": "stream",
     "text": [
      " 3\n",
      "请输入进栈元素给x 45\n"
     ]
    },
    {
     "name": "stdout",
     "output_type": "stream",
     "text": [
      "[45, 23]\n",
      "----请选择操作方式----\n",
      "----0.退出\n",
      "----3.进栈\n"
     ]
    },
    {
     "name": "stdin",
     "output_type": "stream",
     "text": [
      " 3\n",
      "请输入进栈元素给x 67\n"
     ]
    },
    {
     "name": "stdout",
     "output_type": "stream",
     "text": [
      "[67, 45, 23]\n",
      "----请选择操作方式----\n",
      "----0.退出\n",
      "----3.进栈\n"
     ]
    },
    {
     "name": "stdin",
     "output_type": "stream",
     "text": [
      " 0\n"
     ]
    }
   ],
   "source": [
    "class Node(object):\n",
    "    def __init__(self,data = None):\n",
    "        self.data = data\n",
    "        self.next = None\n",
    "\n",
    "class Creat_ListStack(object):\n",
    "    def __init__(self):\n",
    "        self.top = Node()\n",
    "        self.count = 0\n",
    "\n",
    "    def get_length(self):\n",
    "        return self.count\n",
    "\n",
    "    def Empty(self):\n",
    "        return self.count == 0\n",
    "\n",
    "    def push(self,x):\n",
    "        node1 = Node(x)\n",
    "        if self.Empty():\n",
    "            self.top = node1\n",
    "        else:\n",
    "            node1.next = self.top\n",
    "            self.top = node1\n",
    "        self.count += 1\n",
    "\n",
    "    def show_stack(self):\n",
    "        s = []\n",
    "        if self.Empty():\n",
    "            print(\"栈是空的\")\n",
    "        else:\n",
    "            j = self.count\n",
    "            p = self.top\n",
    "            while j > 0 and p:\n",
    "                s.append(p.data)\n",
    "                p = p.next\n",
    "                j = j - 1\n",
    "            print(s)\n",
    "\n",
    "if __name__ == '__main__':\n",
    "    s = Creat_ListStack()\n",
    "    while True:\n",
    "        print(\"----请选择操作方式----\")\n",
    "        print(\"----0.退出\\n----3.进栈\")\n",
    "        number = int(input())\n",
    "        if number == 3:\n",
    "            x = eval(input(\"请输入进栈元素给x\"))\n",
    "            s.push(x)\n",
    "            s.show_stack()\n",
    "        elif number == 0:\n",
    "            break             "
   ]
  },
  {
   "cell_type": "markdown",
   "id": "d51f0a65-8d30-4a16-90c2-6371d8e50095",
   "metadata": {},
   "source": [
    "### 3.1.3 栈的链式存储及其基本操作的实现\n",
    "* 出栈"
   ]
  },
  {
   "cell_type": "code",
   "execution_count": 28,
   "id": "2caf89db-871b-4197-a89f-1256aa7c7d18",
   "metadata": {},
   "outputs": [
    {
     "name": "stdout",
     "output_type": "stream",
     "text": [
      "----请选择操作方式----\n",
      "----0.退出\n",
      "----3.进栈\n",
      "----4.出栈\n"
     ]
    },
    {
     "name": "stdin",
     "output_type": "stream",
     "text": [
      " 3\n",
      "请输入进栈元素给x 34\n"
     ]
    },
    {
     "name": "stdout",
     "output_type": "stream",
     "text": [
      "[34]\n",
      "----请选择操作方式----\n",
      "----0.退出\n",
      "----3.进栈\n",
      "----4.出栈\n"
     ]
    },
    {
     "name": "stdin",
     "output_type": "stream",
     "text": [
      " 3\n",
      "请输入进栈元素给x 56\n"
     ]
    },
    {
     "name": "stdout",
     "output_type": "stream",
     "text": [
      "[56, 34]\n",
      "----请选择操作方式----\n",
      "----0.退出\n",
      "----3.进栈\n",
      "----4.出栈\n"
     ]
    },
    {
     "name": "stdin",
     "output_type": "stream",
     "text": [
      " 3\n",
      "请输入进栈元素给x 78\n"
     ]
    },
    {
     "name": "stdout",
     "output_type": "stream",
     "text": [
      "[78, 56, 34]\n",
      "----请选择操作方式----\n",
      "----0.退出\n",
      "----3.进栈\n",
      "----4.出栈\n"
     ]
    },
    {
     "name": "stdin",
     "output_type": "stream",
     "text": [
      " 4\n"
     ]
    },
    {
     "name": "stdout",
     "output_type": "stream",
     "text": [
      "将出栈数据赋值给x\n",
      "输出出栈数据\n",
      "78\n",
      "输出栈里当前数据\n",
      "[56, 34]\n",
      "----请选择操作方式----\n",
      "----0.退出\n",
      "----3.进栈\n",
      "----4.出栈\n"
     ]
    },
    {
     "name": "stdin",
     "output_type": "stream",
     "text": [
      " 0\n"
     ]
    }
   ],
   "source": [
    "class Node(object):\n",
    "    def __init__(self,data = None):\n",
    "        self.data = data\n",
    "        self.next = None\n",
    "\n",
    "class Creat_ListStack(object):\n",
    "    def __init__(self):\n",
    "        self.top = Node()\n",
    "        self.count = 0\n",
    "\n",
    "    def get_length(self):\n",
    "        return self.count\n",
    "\n",
    "    def Empty(self):\n",
    "        return self.count == 0\n",
    "\n",
    "    def push(self,x):\n",
    "        node1 = Node(x)\n",
    "        if self.Empty():\n",
    "            self.top = node1\n",
    "        else:\n",
    "            node1.next = self.top\n",
    "            self.top = node1\n",
    "        self.count += 1\n",
    "\n",
    "    def pop(self):\n",
    "        if self.Empty():\n",
    "            print(\"栈是空的\")\n",
    "        else:\n",
    "            self.count = self.count - 1\n",
    "            x = self.top.data\n",
    "            self.top = self.top.next\n",
    "            return x\n",
    "\n",
    "    def show_stack(self):\n",
    "        s = []\n",
    "        if self.Empty():\n",
    "            print(\"栈是空的\")\n",
    "        else:\n",
    "            j = self.count\n",
    "            p = self.top\n",
    "            while j > 0 and p:\n",
    "                s.append(p.data)\n",
    "                p = p.next\n",
    "                j = j - 1\n",
    "            print(s)\n",
    "\n",
    "if __name__ == '__main__':\n",
    "    s = Creat_ListStack()\n",
    "    while True:\n",
    "        print(\"----请选择操作方式----\")\n",
    "        print(\"----0.退出\\n----3.进栈\\n----4.出栈\")\n",
    "        number = int(input())\n",
    "        if number == 3:\n",
    "            x = eval(input(\"请输入进栈元素给x\"))\n",
    "            s.push(x)\n",
    "            s.show_stack()\n",
    "        elif number == 4:\n",
    "            print(\"将出栈数据赋值给x\")\n",
    "            x = s.pop()\n",
    "            print(\"输出出栈数据\")\n",
    "            print(x)\n",
    "            print(\"输出栈里当前数据\")\n",
    "            s.show_stack()\n",
    "        elif number == 0:\n",
    "            break             "
   ]
  },
  {
   "cell_type": "markdown",
   "id": "4ccc346d-5ac4-4e72-b287-9e3a95cefa0a",
   "metadata": {},
   "source": [
    "### 3.2.2 队列的顺序存储及其基本操作的实现\n",
    "* 进队出栈"
   ]
  },
  {
   "cell_type": "code",
   "execution_count": null,
   "id": "89c9e432-c39d-4503-b7c8-7f3252260d2c",
   "metadata": {},
   "outputs": [
    {
     "name": "stdout",
     "output_type": "stream",
     "text": [
      "----请选择操作方式----\n",
      "----0. 退出\n",
      "----1. 入队\n"
     ]
    },
    {
     "name": "stdin",
     "output_type": "stream",
     "text": [
      " 1\n",
      "请输入入队元素 88\n"
     ]
    },
    {
     "name": "stdout",
     "output_type": "stream",
     "text": [
      "[1, 2, 3, 4, 5, 88]\n",
      "----请选择操作方式----\n",
      "----0. 退出\n",
      "----1. 入队\n"
     ]
    }
   ],
   "source": [
    "class Queue(object):\n",
    "    def __init__(self,size):\n",
    "        self.MAX = size\n",
    "        self.q = []\n",
    "        self.front = -1  # 标识队头的前一个\n",
    "        self.rear = -1   \n",
    "\n",
    "    def enqueueFull(self):\n",
    "        if self.rear == self.MAX:\n",
    "            return True\n",
    "        else:\n",
    "            return False\n",
    "\n",
    "    def inqueue(self,x):\n",
    "        if self.enqueueFull():\n",
    "            print(\"队列已满，不能进行入队操作\")\n",
    "        else:\n",
    "            self.rear = self.rear + 1  # 队尾标识加1\n",
    "            self.q.append(x)   # 入队\n",
    "            \n",
    "if __name__ == '__main__':\n",
    "    q = Queue(5)   #实例化队列，并设置最多存放元素个数\n",
    "    q.q = [1,2,3,4,5]  # 初始化队列\n",
    "    q.rear = 4         # 初始化队列\n",
    "\n",
    "    while True:\n",
    "        print(\"----请选择操作方式----\")\n",
    "        print(\"----0. 退出\\n----1. 入队\")\n",
    "        number = int(input())\n",
    "        if number == 1:\n",
    "            x = eval(input(\"请输入入队元素\"))\n",
    "            q.inqueue(x)   # 调用入队方法\n",
    "            print(q.q)     # 输出队列中的元素\n",
    "        elif number == 0:\n",
    "            break\n",
    "            \n",
    "\n",
    "\n",
    "\n",
    "\n",
    "        "
   ]
  },
  {
   "cell_type": "markdown",
   "id": "fcbce2c8-1ef9-4fb8-9c1f-030a0f3f29c3",
   "metadata": {},
   "source": [
    "### 3.2.2 队列的顺序存储及其基本操作的实现\n",
    "* 出队"
   ]
  },
  {
   "cell_type": "code",
   "execution_count": 3,
   "id": "e4add830-a050-451d-9a03-11f678b43eb3",
   "metadata": {},
   "outputs": [
    {
     "name": "stdout",
     "output_type": "stream",
     "text": [
      "----请选择操作方式----\n",
      "----0. 退出\n",
      "----2. 出队\n"
     ]
    },
    {
     "name": "stdin",
     "output_type": "stream",
     "text": [
      " 2\n"
     ]
    },
    {
     "name": "stdout",
     "output_type": "stream",
     "text": [
      "出队元素放入x 1:\n",
      "出队后队列中的元素为：\n",
      "2 3 4 5 ----请选择操作方式----\n",
      "----0. 退出\n",
      "----2. 出队\n"
     ]
    },
    {
     "name": "stdin",
     "output_type": "stream",
     "text": [
      " 2\n"
     ]
    },
    {
     "name": "stdout",
     "output_type": "stream",
     "text": [
      "出队元素放入x 2:\n",
      "出队后队列中的元素为：\n",
      "3 4 5 ----请选择操作方式----\n",
      "----0. 退出\n",
      "----2. 出队\n"
     ]
    },
    {
     "name": "stdin",
     "output_type": "stream",
     "text": [
      " 2\n"
     ]
    },
    {
     "name": "stdout",
     "output_type": "stream",
     "text": [
      "出队元素放入x 3:\n",
      "出队后队列中的元素为：\n",
      "4 5 ----请选择操作方式----\n",
      "----0. 退出\n",
      "----2. 出队\n"
     ]
    },
    {
     "name": "stdin",
     "output_type": "stream",
     "text": [
      " 2\n"
     ]
    },
    {
     "name": "stdout",
     "output_type": "stream",
     "text": [
      "出队元素放入x 4:\n",
      "出队后队列中的元素为：\n",
      "5 ----请选择操作方式----\n",
      "----0. 退出\n",
      "----2. 出队\n"
     ]
    },
    {
     "name": "stdin",
     "output_type": "stream",
     "text": [
      " 2\n"
     ]
    },
    {
     "name": "stdout",
     "output_type": "stream",
     "text": [
      "出队元素放入x 5:\n",
      "出队后队列中的元素为：\n",
      "----请选择操作方式----\n",
      "----0. 退出\n",
      "----2. 出队\n"
     ]
    },
    {
     "name": "stdin",
     "output_type": "stream",
     "text": [
      " 2\n"
     ]
    },
    {
     "name": "stdout",
     "output_type": "stream",
     "text": [
      "队列为空，不能进行出队操作\n",
      "----请选择操作方式----\n",
      "----0. 退出\n",
      "----2. 出队\n"
     ]
    },
    {
     "name": "stdin",
     "output_type": "stream",
     "text": [
      " 0\n"
     ]
    }
   ],
   "source": [
    "class Queue(object):\n",
    "    def __init__(self,size):\n",
    "        self.MAX = size\n",
    "        self.q = []\n",
    "        self.front = -1  # 标识队头的前一个\n",
    "        self.rear = -1   #\n",
    "\n",
    "    def isempty(self):\n",
    "        if self.rear == self.front:  # 判断队列为空\n",
    "            return True\n",
    "        else:\n",
    "            return False\n",
    "\n",
    "    def outqueue(self):\n",
    "        if self.isempty():\n",
    "            print(\"队列为空，不能进行出队操作\")\n",
    "            x = -9999\n",
    "        else:\n",
    "            self.front = self.front + 1\n",
    "            x = self.q[self.front]\n",
    "        return x\n",
    "        \n",
    "            \n",
    "if __name__ == '__main__':\n",
    "    q = Queue(50)   #实例化队列，并设置最多存放元素个数\n",
    "    q.q = [1,2,3,4,5]  # 初始化队列\n",
    "    q.front = -1         # 初始化队列\n",
    "    q.rear = 4         # 初始化队列\n",
    "\n",
    "    while True:\n",
    "        print(\"----请选择操作方式----\")\n",
    "        print(\"----0. 退出\\n----2. 出队\")\n",
    "        number = int(input())\n",
    "        if number == 2:\n",
    "            x = q.outqueue()\n",
    "            if x != -9999:\n",
    "                print(\"出队元素放入x %d:\" % x)\n",
    "                print(\"出队后队列中的元素为：\")\n",
    "                for i in range(q.front + 1, len(q.q)):\n",
    "                    print(q.q[i],end=\" \")\n",
    "        elif number == 0:\n",
    "            break"
   ]
  },
  {
   "cell_type": "markdown",
   "id": "d928e68f-c970-4714-8928-73446e19ac10",
   "metadata": {},
   "source": [
    "### 3.2.2 队列的顺序存储及其基本操作的实现\n",
    "* 入队(循环队列)"
   ]
  },
  {
   "cell_type": "code",
   "execution_count": 14,
   "id": "de3139f7-dfbb-4c66-866e-86cc0b0318c7",
   "metadata": {},
   "outputs": [
    {
     "name": "stdout",
     "output_type": "stream",
     "text": [
      "----请选择操作方式----\n",
      "----0. 退出\n",
      "----3. 入队\n"
     ]
    },
    {
     "name": "stdin",
     "output_type": "stream",
     "text": [
      " 3\n",
      "请输入入队元素 33\n"
     ]
    },
    {
     "name": "stdout",
     "output_type": "stream",
     "text": [
      "[33, 'null', 'null', 'null', 'null', 'null', 'null', 'null', 'null', 'null']\n",
      "----请选择操作方式----\n",
      "----0. 退出\n",
      "----3. 入队\n"
     ]
    },
    {
     "name": "stdin",
     "output_type": "stream",
     "text": [
      " 3\n",
      "请输入入队元素 33\n"
     ]
    },
    {
     "name": "stdout",
     "output_type": "stream",
     "text": [
      "[33, 33, 'null', 'null', 'null', 'null', 'null', 'null', 'null', 'null']\n",
      "----请选择操作方式----\n",
      "----0. 退出\n",
      "----3. 入队\n"
     ]
    },
    {
     "name": "stdin",
     "output_type": "stream",
     "text": [
      " 3\n",
      "请输入入队元素 33\n"
     ]
    },
    {
     "name": "stdout",
     "output_type": "stream",
     "text": [
      "[33, 33, 33, 'null', 'null', 'null', 'null', 'null', 'null', 'null']\n",
      "----请选择操作方式----\n",
      "----0. 退出\n",
      "----3. 入队\n"
     ]
    },
    {
     "name": "stdin",
     "output_type": "stream",
     "text": [
      " 3\n",
      "请输入入队元素 33\n"
     ]
    },
    {
     "name": "stdout",
     "output_type": "stream",
     "text": [
      "[33, 33, 33, 33, 'null', 'null', 'null', 'null', 'null', 'null']\n",
      "----请选择操作方式----\n",
      "----0. 退出\n",
      "----3. 入队\n"
     ]
    },
    {
     "name": "stdin",
     "output_type": "stream",
     "text": [
      " 3\n",
      "请输入入队元素 33\n"
     ]
    },
    {
     "name": "stdout",
     "output_type": "stream",
     "text": [
      "[33, 33, 33, 33, 33, 'null', 'null', 'null', 'null', 'null']\n",
      "----请选择操作方式----\n",
      "----0. 退出\n",
      "----3. 入队\n"
     ]
    },
    {
     "name": "stdin",
     "output_type": "stream",
     "text": [
      " 3\n",
      "请输入入队元素 333\n"
     ]
    },
    {
     "name": "stdout",
     "output_type": "stream",
     "text": [
      "[33, 33, 33, 33, 33, 333, 'null', 'null', 'null', 'null']\n",
      "----请选择操作方式----\n",
      "----0. 退出\n",
      "----3. 入队\n"
     ]
    },
    {
     "name": "stdin",
     "output_type": "stream",
     "text": [
      " 3\n",
      "请输入入队元素 3333\n"
     ]
    },
    {
     "name": "stdout",
     "output_type": "stream",
     "text": [
      "[33, 33, 33, 33, 33, 333, 3333, 'null', 'null', 'null']\n",
      "----请选择操作方式----\n",
      "----0. 退出\n",
      "----3. 入队\n"
     ]
    },
    {
     "name": "stdin",
     "output_type": "stream",
     "text": [
      " 3\n",
      "请输入入队元素 33333\n"
     ]
    },
    {
     "name": "stdout",
     "output_type": "stream",
     "text": [
      "[33, 33, 33, 33, 33, 333, 3333, 33333, 'null', 'null']\n",
      "----请选择操作方式----\n",
      "----0. 退出\n",
      "----3. 入队\n"
     ]
    },
    {
     "name": "stdin",
     "output_type": "stream",
     "text": [
      " 3\n",
      "请输入入队元素 33\n"
     ]
    },
    {
     "name": "stdout",
     "output_type": "stream",
     "text": [
      "[33, 33, 33, 33, 33, 333, 3333, 33333, 33, 'null']\n",
      "----请选择操作方式----\n",
      "----0. 退出\n",
      "----3. 入队\n"
     ]
    },
    {
     "name": "stdin",
     "output_type": "stream",
     "text": [
      " 3\n",
      "请输入入队元素 33333333\n"
     ]
    },
    {
     "name": "stdout",
     "output_type": "stream",
     "text": [
      "队列已满，不能进行入队操作\n",
      "[33, 33, 33, 33, 33, 333, 3333, 33333, 33, 'null']\n",
      "----请选择操作方式----\n",
      "----0. 退出\n",
      "----3. 入队\n"
     ]
    },
    {
     "name": "stdin",
     "output_type": "stream",
     "text": [
      " 0\n"
     ]
    }
   ],
   "source": [
    "class Queue(object):\n",
    "    def __init__(self,size):\n",
    "        self.MAX = size\n",
    "        self.q = []\n",
    "        self.front = 0  \n",
    "        self.rear = 0   #指向尾元素的后一个\n",
    "\n",
    "    def enqueueFull(self):\n",
    "        if (self.rear + 1)%self.MAX == self.front:  #判断队列满\n",
    "            return True\n",
    "        else:\n",
    "            return False\n",
    "\n",
    "    def inqueue(self,x):\n",
    "        if self.enqueueFull():\n",
    "            print(\"队列已满，不能进行入队操作\")\n",
    "        else:\n",
    "            self.q[self.rear] = x   # 入队\n",
    "            self.rear = (self.rear + 1)%self.MAX  # 队尾标识加1\n",
    "            \n",
    "            \n",
    "if __name__ == '__main__':\n",
    "    q = Queue(10)   #实例化队列，并设置最多存放元素个数\n",
    "    q.q = ['null']*10  # 初始化队列\n",
    "    q.rear = 0         # 初始化队列\n",
    "\n",
    "    while True:\n",
    "        print(\"----请选择操作方式----\")\n",
    "        print(\"----0. 退出\\n----3. 入队\")\n",
    "        number = int(input())\n",
    "        if number == 3:\n",
    "            x = eval(input(\"请输入入队元素\"))\n",
    "            q.inqueue(x)   # 调用入队方法\n",
    "            print(q.q)     # 输出队列中的元素\n",
    "        elif number == 0:\n",
    "            break\n",
    "            \n",
    "\n",
    "\n",
    "\n",
    "\n",
    "        "
   ]
  },
  {
   "cell_type": "markdown",
   "id": "b8e4be2f-707a-405e-8062-32905408b68e",
   "metadata": {},
   "source": [
    "### 3.2.2 队列的顺序存储及其基本操作的实现\n",
    "* 出队(循环队列)"
   ]
  },
  {
   "cell_type": "code",
   "execution_count": 18,
   "id": "cc760093-54ed-4dfe-b01a-eda70c8be6b7",
   "metadata": {},
   "outputs": [
    {
     "name": "stdout",
     "output_type": "stream",
     "text": [
      "----请选择操作方式----\n",
      "----0. 退出\n",
      "----4. 出队\n"
     ]
    },
    {
     "name": "stdin",
     "output_type": "stream",
     "text": [
      " 4\n"
     ]
    },
    {
     "name": "stdout",
     "output_type": "stream",
     "text": [
      "出队元素放入x 1:\n",
      "出队后队列中的元素为：\n",
      "2 3 4 5 null null null null null ----请选择操作方式----\n",
      "----0. 退出\n",
      "----4. 出队\n"
     ]
    },
    {
     "name": "stdin",
     "output_type": "stream",
     "text": [
      " 4\n"
     ]
    },
    {
     "name": "stdout",
     "output_type": "stream",
     "text": [
      "出队元素放入x 2:\n",
      "出队后队列中的元素为：\n",
      "3 4 5 null null null null null ----请选择操作方式----\n",
      "----0. 退出\n",
      "----4. 出队\n"
     ]
    },
    {
     "name": "stdin",
     "output_type": "stream",
     "text": [
      " 4\n"
     ]
    },
    {
     "name": "stdout",
     "output_type": "stream",
     "text": [
      "出队元素放入x 3:\n",
      "出队后队列中的元素为：\n",
      "4 5 null null null null null ----请选择操作方式----\n",
      "----0. 退出\n",
      "----4. 出队\n"
     ]
    },
    {
     "name": "stdin",
     "output_type": "stream",
     "text": [
      " 4\n"
     ]
    },
    {
     "name": "stdout",
     "output_type": "stream",
     "text": [
      "出队元素放入x 4:\n",
      "出队后队列中的元素为：\n",
      "5 null null null null null ----请选择操作方式----\n",
      "----0. 退出\n",
      "----4. 出队\n"
     ]
    },
    {
     "name": "stdin",
     "output_type": "stream",
     "text": [
      " 4\n"
     ]
    },
    {
     "name": "stdout",
     "output_type": "stream",
     "text": [
      "出队元素放入x 5:\n",
      "出队后队列中的元素为：\n",
      "null null null null null ----请选择操作方式----\n",
      "----0. 退出\n",
      "----4. 出队\n"
     ]
    },
    {
     "name": "stdin",
     "output_type": "stream",
     "text": [
      " 4\n"
     ]
    },
    {
     "name": "stdout",
     "output_type": "stream",
     "text": [
      "队列已空，不能进行出队操作\n",
      "----请选择操作方式----\n",
      "----0. 退出\n",
      "----4. 出队\n"
     ]
    },
    {
     "name": "stdin",
     "output_type": "stream",
     "text": [
      " 0\n"
     ]
    }
   ],
   "source": [
    "class Queue(object):\n",
    "    def __init__(self,size):\n",
    "        self.MAX = size\n",
    "        self.q = []\n",
    "        self.front = 0  \n",
    "        self.rear = 0   #指向尾元素的后一个\n",
    "\n",
    "    def isempty(self):\n",
    "        if self.rear == self.front:\n",
    "            return True\n",
    "        else:\n",
    "            return False\n",
    "\n",
    "    def outqueue(self):\n",
    "        if self.isempty():\n",
    "            print(\"队列已空，不能进行出队操作\")\n",
    "            x = -9999\n",
    "        else:\n",
    "            x = self.q[self.front]\n",
    "            self.front = (self.front + 1)%self.MAX\n",
    "        return x\n",
    "            \n",
    "if __name__ == '__main__':\n",
    "    q = Queue(10)   #实例化队列，并设置最多存放元素个数\n",
    "    q.q = [1,2,3,4,5,'null','null','null','null','null']  # 初始化队列\n",
    "    q.rear = 5         # 初始化队列\n",
    "\n",
    "    while True:\n",
    "        print(\"----请选择操作方式----\")\n",
    "        print(\"----0. 退出\\n----4. 出队\")\n",
    "        number = int(input())\n",
    "        if number == 4:\n",
    "            x = q.outqueue()\n",
    "            if x != -9999:\n",
    "                print(\"出队元素放入x %d:\" % x)\n",
    "                print(\"出队后队列中的元素为：\")\n",
    "                for i in range(q.front, len(q.q)):\n",
    "                    print(q.q[i],end=\" \")\n",
    "        elif number == 0:\n",
    "            break"
   ]
  },
  {
   "cell_type": "markdown",
   "id": "4c6a1cc7-8d9f-427b-80e2-b66ba83f5570",
   "metadata": {},
   "source": [
    "### 3.2.3 队列的链式存储及其基本操作的实现\n",
    "*入出)"
   ]
  },
  {
   "cell_type": "code",
   "execution_count": 34,
   "id": "cd761eb1-63bf-48b1-b92d-7d94174fac08",
   "metadata": {},
   "outputs": [
    {
     "name": "stdout",
     "output_type": "stream",
     "text": [
      "----请选择操作方式----\n",
      "----0. 退出\n",
      "----1. 入队\n"
     ]
    },
    {
     "name": "stdin",
     "output_type": "stream",
     "text": [
      " 1\n",
      "请输入入队元素给x：  23\n"
     ]
    },
    {
     "name": "stdout",
     "output_type": "stream",
     "text": [
      "23 ----请选择操作方式----\n",
      "----0. 退出\n",
      "----1. 入队\n"
     ]
    },
    {
     "name": "stdin",
     "output_type": "stream",
     "text": [
      " 1\n",
      "请输入入队元素给x：  45\n"
     ]
    },
    {
     "name": "stdout",
     "output_type": "stream",
     "text": [
      "23 45 ----请选择操作方式----\n",
      "----0. 退出\n",
      "----1. 入队\n"
     ]
    },
    {
     "name": "stdin",
     "output_type": "stream",
     "text": [
      " 1\n",
      "请输入入队元素给x：  67\n"
     ]
    },
    {
     "name": "stdout",
     "output_type": "stream",
     "text": [
      "23 45 67 ----请选择操作方式----\n",
      "----0. 退出\n",
      "----1. 入队\n"
     ]
    },
    {
     "name": "stdin",
     "output_type": "stream",
     "text": [
      " 1\n",
      "请输入入队元素给x：  89\n"
     ]
    },
    {
     "name": "stdout",
     "output_type": "stream",
     "text": [
      "23 45 67 89 ----请选择操作方式----\n",
      "----0. 退出\n",
      "----1. 入队\n"
     ]
    },
    {
     "name": "stdin",
     "output_type": "stream",
     "text": [
      " 0\n"
     ]
    }
   ],
   "source": [
    "class Node():\n",
    "    def __init__(self):\n",
    "        self.data = None\n",
    "        self.next = None\n",
    "\n",
    "class LinkQueue():\n",
    "    def __init__(self):\n",
    "        t = Node()\n",
    "        self.front = t\n",
    "        self.rear = t\n",
    "        self.length = 0\n",
    "\n",
    "    def Empty(self):\n",
    "        if self.length == 0:\n",
    "            return True\n",
    "        else:\n",
    "            return False\n",
    "\n",
    "    #进队列\n",
    "    def EnQueue(self,x):\n",
    "        t = Node()\n",
    "        t.data = x\n",
    "        if self.Empty():\n",
    "            self.front = t\n",
    "            self.rear = t\n",
    "        else:\n",
    "            self.rear.next = t\n",
    "            self.rear = t\n",
    "        self.length += 1\n",
    "\n",
    "    #输出队列元素\n",
    "    def QueueTraverse(self):\n",
    "        if self.Empty():\n",
    "            print(\"队列为空\")\n",
    "            return\n",
    "        else:\n",
    "            t = self.front\n",
    "            print(t.data, end = \" \")\n",
    "            while t.next != None:\n",
    "                t = t.next\n",
    "                print(t.data, end = \" \")\n",
    "\n",
    "if __name__ == '__main__':\n",
    "    s = LinkQueue()\n",
    "    while True:\n",
    "        print(\"----请选择操作方式----\")\n",
    "        print(\"----0. 退出\\n----1. 入队\")\n",
    "        number = int(input())\n",
    "        if number == 1:\n",
    "            x = eval(input(\"请输入入队元素给x： \"))\n",
    "            s.EnQueue(x)\n",
    "            s.QueueTraverse()\n",
    "        elif number == 0:\n",
    "            break\n",
    "        "
   ]
  },
  {
   "cell_type": "markdown",
   "id": "307ed292-d2da-47d0-80de-f0ac12f765b2",
   "metadata": {},
   "source": [
    "### 3.2.3 队列的链式存储及其基本操作的实现\n",
    "* 出队"
   ]
  },
  {
   "cell_type": "code",
   "execution_count": 38,
   "id": "7eb71644-06c4-42d0-be5f-c480258c418e",
   "metadata": {},
   "outputs": [
    {
     "name": "stdout",
     "output_type": "stream",
     "text": [
      "----请选择操作方式----\n",
      "----0. 退出\n",
      "----1. 入队\n",
      "----2. 出队\n"
     ]
    },
    {
     "name": "stdin",
     "output_type": "stream",
     "text": [
      " 1\n",
      "请输入入队元素给x：  23\n"
     ]
    },
    {
     "name": "stdout",
     "output_type": "stream",
     "text": [
      "23 ----请选择操作方式----\n",
      "----0. 退出\n",
      "----1. 入队\n",
      "----2. 出队\n"
     ]
    },
    {
     "name": "stdin",
     "output_type": "stream",
     "text": [
      " 1\n",
      "请输入入队元素给x：  45\n"
     ]
    },
    {
     "name": "stdout",
     "output_type": "stream",
     "text": [
      "23 45 ----请选择操作方式----\n",
      "----0. 退出\n",
      "----1. 入队\n",
      "----2. 出队\n"
     ]
    },
    {
     "name": "stdin",
     "output_type": "stream",
     "text": [
      " 1\n",
      "请输入入队元素给x：  67\n"
     ]
    },
    {
     "name": "stdout",
     "output_type": "stream",
     "text": [
      "23 45 67 ----请选择操作方式----\n",
      "----0. 退出\n",
      "----1. 入队\n",
      "----2. 出队\n"
     ]
    },
    {
     "name": "stdin",
     "output_type": "stream",
     "text": [
      " 2\n"
     ]
    },
    {
     "name": "stdout",
     "output_type": "stream",
     "text": [
      "当前的出队元素为：\n",
      "23 \n",
      "45 67 ----请选择操作方式----\n",
      "----0. 退出\n",
      "----1. 入队\n",
      "----2. 出队\n"
     ]
    },
    {
     "name": "stdin",
     "output_type": "stream",
     "text": [
      " 2\n"
     ]
    },
    {
     "name": "stdout",
     "output_type": "stream",
     "text": [
      "当前的出队元素为：\n",
      "45 \n",
      "67 ----请选择操作方式----\n",
      "----0. 退出\n",
      "----1. 入队\n",
      "----2. 出队\n"
     ]
    },
    {
     "name": "stdin",
     "output_type": "stream",
     "text": [
      " 2\n"
     ]
    },
    {
     "name": "stdout",
     "output_type": "stream",
     "text": [
      "当前的出队元素为：\n",
      "67 \n",
      "队列为空\n",
      "----请选择操作方式----\n",
      "----0. 退出\n",
      "----1. 入队\n",
      "----2. 出队\n"
     ]
    },
    {
     "name": "stdin",
     "output_type": "stream",
     "text": [
      " 0\n"
     ]
    }
   ],
   "source": [
    "class Node():\n",
    "    def __init__(self):\n",
    "        self.data = None\n",
    "        self.next = None\n",
    "\n",
    "class LinkQueue():\n",
    "    def __init__(self):\n",
    "        t = Node()\n",
    "        self.front = t\n",
    "        self.rear = t\n",
    "        self.length = 0\n",
    "\n",
    "    def Empty(self):\n",
    "        if self.length == 0:\n",
    "            return True\n",
    "        else:\n",
    "            return False\n",
    "\n",
    "    #进队列\n",
    "    def EnQueue(self,x):\n",
    "        t = Node()\n",
    "        t.data = x\n",
    "        if self.Empty():\n",
    "            self.front = t\n",
    "            self.rear = t\n",
    "        else:\n",
    "            self.rear.next = t\n",
    "            self.rear = t\n",
    "        self.length += 1\n",
    "\n",
    "    # 出队列\n",
    "    def OutQueue(self):\n",
    "        if self.Empty():\n",
    "            print(\"队列为空\")\n",
    "            return\n",
    "        else:\n",
    "            p = self.front\n",
    "            self.front = p.next\n",
    "            if self.length == 1:\n",
    "                self.rear = None\n",
    "            self.length -=1\n",
    "        return p.data\n",
    "\n",
    "    #输出队列元素\n",
    "    def QueueTraverse(self):\n",
    "        if self.Empty():\n",
    "            print(\"队列为空\")\n",
    "            return\n",
    "        else:\n",
    "            t = self.front\n",
    "            print(t.data, end = \" \")\n",
    "            while t.next != None:\n",
    "                t = t.next\n",
    "                print(t.data, end = \" \")\n",
    "\n",
    "if __name__ == '__main__':\n",
    "    s = LinkQueue()\n",
    "    while True:\n",
    "        print(\"----请选择操作方式----\")\n",
    "        print(\"----0. 退出\\n----1. 入队\\n----2. 出队\")\n",
    "        number = int(input())\n",
    "        if number == 1:\n",
    "            x = eval(input(\"请输入入队元素给x： \"))\n",
    "            s.EnQueue(x)\n",
    "            s.QueueTraverse()\n",
    "        elif number == 2:\n",
    "            print(\"当前的出队元素为：\")\n",
    "            print(s.OutQueue(),end = \" \\n\")\n",
    "            s.QueueTraverse()\n",
    "        elif number == 0:\n",
    "            break\n",
    "        "
   ]
  }
 ],
 "metadata": {
  "kernelspec": {
   "display_name": "Python 3 (ipykernel)",
   "language": "python",
   "name": "python3"
  },
  "language_info": {
   "codemirror_mode": {
    "name": "ipython",
    "version": 3
   },
   "file_extension": ".py",
   "mimetype": "text/x-python",
   "name": "python",
   "nbconvert_exporter": "python",
   "pygments_lexer": "ipython3",
   "version": "3.9.12"
  }
 },
 "nbformat": 4,
 "nbformat_minor": 5
}
