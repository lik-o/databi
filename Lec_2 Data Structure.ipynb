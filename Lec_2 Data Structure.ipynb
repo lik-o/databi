{
 "cells": [
  {
   "cell_type": "code",
   "execution_count": 1,
   "id": "f3b7fb0b-003e-4ae6-aaee-0e2ea0d2fc99",
   "metadata": {},
   "outputs": [
    {
     "name": "stdout",
     "output_type": "stream",
     "text": [
      "1 2 3 \n",
      "4 5 6 \n",
      "7 8 9 \n"
     ]
    }
   ],
   "source": [
    "# 创建一个 3x3 的二维数组\n",
    "matrix = [\n",
    "    [1, 2, 3],\n",
    "    [4, 5, 6],\n",
    "    [7, 8, 9]\n",
    "]\n",
    "\n",
    "# 外层循环：遍历行\n",
    "for i in range(len(matrix)):\n",
    "    # 内层循环：遍历列\n",
    "    for j in range(len(matrix[i])):\n",
    "        # 打印当前元素\n",
    "        print(matrix[i][j], end=' ')\n",
    "    print()  # 每行输出后换行\n"
   ]
  },
  {
   "cell_type": "code",
   "execution_count": null,
   "id": "a2020dbc-3ffc-470f-9db5-e84fcd974125",
   "metadata": {},
   "outputs": [],
   "source": []
  }
 ],
 "metadata": {
  "kernelspec": {
   "display_name": "Python 3 (ipykernel)",
   "language": "python",
   "name": "python3"
  },
  "language_info": {
   "codemirror_mode": {
    "name": "ipython",
    "version": 3
   },
   "file_extension": ".py",
   "mimetype": "text/x-python",
   "name": "python",
   "nbconvert_exporter": "python",
   "pygments_lexer": "ipython3",
   "version": "3.12.4"
  }
 },
 "nbformat": 4,
 "nbformat_minor": 5
}
