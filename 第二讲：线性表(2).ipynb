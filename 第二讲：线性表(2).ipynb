{
 "cells": [
  {
   "cell_type": "markdown",
   "id": "f832b21f-7997-41e5-911b-acc368b79e48",
   "metadata": {},
   "source": [
    "## 第二讲：线性表"
   ]
  },
  {
   "cell_type": "markdown",
   "id": "4318edaa-db51-4726-b78d-2f0e552d008c",
   "metadata": {},
   "source": [
    "### 2.2.2 顺序表基本操作的实现-插入运算\n",
    "* 假设一线性表中所存储的元素为整数 ，插入算法如下"
   ]
  },
  {
   "cell_type": "code",
   "execution_count": 1,
   "id": "dae45e9b-5152-43c9-b8c0-295395cc4e1c",
   "metadata": {},
   "outputs": [
    {
     "name": "stdin",
     "output_type": "stream",
     "text": [
      "请输入有效数据个数n： 8\n"
     ]
    },
    {
     "name": "stdout",
     "output_type": "stream",
     "text": [
      "请输入第 1 个数据给列表a： "
     ]
    },
    {
     "name": "stdin",
     "output_type": "stream",
     "text": [
      " 1\n"
     ]
    },
    {
     "name": "stdout",
     "output_type": "stream",
     "text": [
      "请输入第 2 个数据给列表a： "
     ]
    },
    {
     "name": "stdin",
     "output_type": "stream",
     "text": [
      " 2\n"
     ]
    },
    {
     "name": "stdout",
     "output_type": "stream",
     "text": [
      "请输入第 3 个数据给列表a： "
     ]
    },
    {
     "name": "stdin",
     "output_type": "stream",
     "text": [
      " 3\n"
     ]
    },
    {
     "name": "stdout",
     "output_type": "stream",
     "text": [
      "请输入第 4 个数据给列表a： "
     ]
    },
    {
     "name": "stdin",
     "output_type": "stream",
     "text": [
      " 4\n"
     ]
    },
    {
     "name": "stdout",
     "output_type": "stream",
     "text": [
      "请输入第 5 个数据给列表a： "
     ]
    },
    {
     "name": "stdin",
     "output_type": "stream",
     "text": [
      " 5\n"
     ]
    },
    {
     "name": "stdout",
     "output_type": "stream",
     "text": [
      "请输入第 6 个数据给列表a： "
     ]
    },
    {
     "name": "stdin",
     "output_type": "stream",
     "text": [
      " 6\n"
     ]
    },
    {
     "name": "stdout",
     "output_type": "stream",
     "text": [
      "请输入第 7 个数据给列表a： "
     ]
    },
    {
     "name": "stdin",
     "output_type": "stream",
     "text": [
      " 7\n"
     ]
    },
    {
     "name": "stdout",
     "output_type": "stream",
     "text": [
      "请输入第 8 个数据给列表a： "
     ]
    },
    {
     "name": "stdin",
     "output_type": "stream",
     "text": [
      " 8\n"
     ]
    },
    {
     "name": "stdout",
     "output_type": "stream",
     "text": [
      "插入前的列表为：\n",
      "[1, 2, 3, 4, 5, 6, 7, 8]\n"
     ]
    },
    {
     "name": "stdin",
     "output_type": "stream",
     "text": [
      "请输入要插入的位置： 2\n",
      "请输入要插入的数据： 25\n"
     ]
    },
    {
     "name": "stdout",
     "output_type": "stream",
     "text": [
      "插入后的列表为：\n",
      "[1, 2, 25, 3, 4, 5, 6, 7, 8]\n"
     ]
    }
   ],
   "source": [
    "# a 是列表，pos是要插入的位置，key是要插入的数据，n表示列表长度\n",
    "\n",
    "def insert(a,pos,key,n):\n",
    "    i = n-1  #最后一个元素的位置\n",
    "    while i>=pos:\n",
    "        a[i+1] = a[i]\n",
    "        i = i-1\n",
    "    a[pos] = key\n",
    "    return n+1     # 返回插入元素后的表格长度\n",
    "\n",
    "#插入示例\n",
    "if __name__ == '__main__':\n",
    "    #生成空列表\n",
    "    a = [None]*10\n",
    "    # n用于统计输入到列表中的有效数据个数\n",
    "    n = int(input(\"请输入有效数据个数n：\"))\n",
    "    # 向列表中输入有效数据\n",
    "    for i in range(0,n):\n",
    "        print(\"请输入第 %d 个数据给列表a：\"%(i+1),end = ' ')\n",
    "        num = int(input())\n",
    "        a[i] = num\n",
    "    #输出所给列表中的n个有效数据\n",
    "    print(\"插入前的列表为：\")\n",
    "    print(a[:n])\n",
    "\n",
    "    #插入新数据\n",
    "    pos = int(input(\"请输入要插入的位置：\"))\n",
    "    key = int(input(\"请输入要插入的数据：\"))\n",
    "    listlen = insert(a,pos,key,n)\n",
    "    #输出插入后的列表\n",
    "    print(\"插入后的列表为：\")\n",
    "    print(a[:listlen])\n",
    "    "
   ]
  },
  {
   "cell_type": "markdown",
   "id": "1e5f7631-5626-412f-91a0-12030fa345aa",
   "metadata": {},
   "source": [
    "### 2.2.2 顺序表基本操作的实现-删除运算\n",
    "* 假设一线性表中所存储的元素为整数 ，则Python语言描述的顺序表的删除算法如下"
   ]
  },
  {
   "cell_type": "code",
   "execution_count": 3,
   "id": "90339b01-bf19-4c57-8ff6-f55029002476",
   "metadata": {},
   "outputs": [
    {
     "name": "stdin",
     "output_type": "stream",
     "text": [
      "请输入有效数据个数n： 8\n"
     ]
    },
    {
     "name": "stdout",
     "output_type": "stream",
     "text": [
      "请输入第 1 个数据给列表a： "
     ]
    },
    {
     "name": "stdin",
     "output_type": "stream",
     "text": [
      " 1\n"
     ]
    },
    {
     "name": "stdout",
     "output_type": "stream",
     "text": [
      "请输入第 2 个数据给列表a： "
     ]
    },
    {
     "name": "stdin",
     "output_type": "stream",
     "text": [
      " 2\n"
     ]
    },
    {
     "name": "stdout",
     "output_type": "stream",
     "text": [
      "请输入第 3 个数据给列表a： "
     ]
    },
    {
     "name": "stdin",
     "output_type": "stream",
     "text": [
      " 3\n"
     ]
    },
    {
     "name": "stdout",
     "output_type": "stream",
     "text": [
      "请输入第 4 个数据给列表a： "
     ]
    },
    {
     "name": "stdin",
     "output_type": "stream",
     "text": [
      " 4\n"
     ]
    },
    {
     "name": "stdout",
     "output_type": "stream",
     "text": [
      "请输入第 5 个数据给列表a： "
     ]
    },
    {
     "name": "stdin",
     "output_type": "stream",
     "text": [
      " 5\n"
     ]
    },
    {
     "name": "stdout",
     "output_type": "stream",
     "text": [
      "请输入第 6 个数据给列表a： "
     ]
    },
    {
     "name": "stdin",
     "output_type": "stream",
     "text": [
      " 6\n"
     ]
    },
    {
     "name": "stdout",
     "output_type": "stream",
     "text": [
      "请输入第 7 个数据给列表a： "
     ]
    },
    {
     "name": "stdin",
     "output_type": "stream",
     "text": [
      " 7\n"
     ]
    },
    {
     "name": "stdout",
     "output_type": "stream",
     "text": [
      "请输入第 8 个数据给列表a： "
     ]
    },
    {
     "name": "stdin",
     "output_type": "stream",
     "text": [
      " 8\n"
     ]
    },
    {
     "name": "stdout",
     "output_type": "stream",
     "text": [
      "删除前的列表为：\n",
      "[1, 2, 3, 4, 5, 6, 7, 8]\n"
     ]
    },
    {
     "name": "stdin",
     "output_type": "stream",
     "text": [
      "请输入要删除的位置： 2\n"
     ]
    },
    {
     "name": "stdout",
     "output_type": "stream",
     "text": [
      "删除后的列表为：\n",
      "[1, 2, 4, 5, 6, 7, 8]\n"
     ]
    }
   ],
   "source": [
    "# a 是列表，pos是要插入的位置，key是要插入的数据，n表示列表长度\n",
    "\n",
    "def dellist(a,pos,n):\n",
    "    i = pos  #要删除的元素\n",
    "    while i<n-1:\n",
    "        a[i] = a[i+1]\n",
    "        i = i+1\n",
    "    return n-1     # 返回插入元素后的表格长度\n",
    "\n",
    "#删除示例\n",
    "if __name__ == '__main__':\n",
    "    #生成空列表\n",
    "    a = [None]*10\n",
    "    # n用于统计输入到列表中的有效数据个数\n",
    "    n = int(input(\"请输入有效数据个数n：\"))\n",
    "    # 向列表中输入有效数据\n",
    "    for i in range(0,n):\n",
    "        print(\"请输入第 %d 个数据给列表a：\"%(i+1),end = ' ')\n",
    "        num = int(input())\n",
    "        a[i] = num\n",
    "    #输出所给列表中的n个有效数据\n",
    "    print(\"删除前的列表为：\")\n",
    "    print(a[:n])\n",
    "\n",
    "    #删除某个数据\n",
    "    pos = int(input(\"请输入要删除的位置：\"))\n",
    "    listlen = dellist(a,pos,n)\n",
    "    #输出删除后的列表\n",
    "    print(\"删除后的列表为：\")\n",
    "    print(a[:listlen])"
   ]
  },
  {
   "cell_type": "markdown",
   "id": "a4220ad3-33cc-4e94-9406-e92dd791d29b",
   "metadata": {},
   "source": [
    "### 2.2.3 顺序表的应用举例\n",
    "* 两个有序表合并函数"
   ]
  },
  {
   "cell_type": "code",
   "execution_count": 5,
   "id": "6011e7df-c446-49f9-b638-bc918e5f12e5",
   "metadata": {},
   "outputs": [
    {
     "name": "stdout",
     "output_type": "stream",
     "text": [
      "[3, 5, 7, 11, 12, 22, 22, 24, 29, 34, 35, 56, 61, 61, 72]\n"
     ]
    }
   ],
   "source": [
    "# 合并两个顺序表l1和l2，返回新的表\n",
    "def loop_merge_sort(l1,l2):\n",
    "    tem = []    # 合并后的新表\n",
    "    # 循环合并表l1和l2\n",
    "    while len(l1) > 0 and len(l2) > 0:\n",
    "        # 比较两个表第一个元素，把小的放入新表，并删除原元素\n",
    "        if (l1[0]<l2[0]):\n",
    "            tem.append(l1[0])\n",
    "            del l1[0]\n",
    "        else:\n",
    "            tem.append(l2[0])\n",
    "            del l2[0]\n",
    "    #将还有剩余元素的有序表添加到新表的末尾\n",
    "    if len(l1) > 0:\n",
    "        tem.extend(l1)\n",
    "    else:\n",
    "        tem.extend(l2)\n",
    "    return tem\n",
    "\n",
    "# 有序顺序表合并示例\n",
    "if __name__ == '__main__':\n",
    "    # 给出两个有序顺序表la和lb\n",
    "    la = [11,24,35,5,61,72,29,22]\n",
    "    lb = [3,7,34,61,56,22,12]\n",
    "    # 对两个表排序\n",
    "    la.sort()\n",
    "    lb.sort()\n",
    "    # 合并la和lb，返回lc\n",
    "    lc = loop_merge_sort(la,lb)\n",
    "    print(lc)"
   ]
  },
  {
   "cell_type": "markdown",
   "id": "76f63195-1bbd-48c2-90b1-64c4724c4da6",
   "metadata": {},
   "source": [
    "### 2.3.2 单链表 - 建立单链表\n",
    "* 从头部或尾部插入数据，建立单链表"
   ]
  },
  {
   "cell_type": "code",
   "execution_count": 7,
   "id": "f6a9f4ec-a898-40a8-bd38-c0d7cba2e4b8",
   "metadata": {},
   "outputs": [
    {
     "name": "stdout",
     "output_type": "stream",
     "text": [
      "\n",
      "        0、结束所有操作\n",
      "        1、从尾部插入数值建立单链表\n",
      "        2、从头部插入数值建立单链表\n",
      "    \n"
     ]
    },
    {
     "name": "stdin",
     "output_type": "stream",
     "text": [
      "--请输入0、1或者2进行下一步操作--： 1\n"
     ]
    },
    {
     "name": "stdout",
     "output_type": "stream",
     "text": [
      "目前的链表状态：\n",
      "目前链表没有数据！\n",
      "正在尾部插入数值：\n"
     ]
    },
    {
     "name": "stdin",
     "output_type": "stream",
     "text": [
      "输入要插入的值： 4\n"
     ]
    },
    {
     "name": "stdout",
     "output_type": "stream",
     "text": [
      "操作后链表的状态：\n",
      "目前链表数据有： 4-> \n",
      "\n"
     ]
    },
    {
     "name": "stdin",
     "output_type": "stream",
     "text": [
      "--请输入0、1或者2进行下一步操作--： 1\n"
     ]
    },
    {
     "name": "stdout",
     "output_type": "stream",
     "text": [
      "目前的链表状态：\n",
      "目前链表数据有： 4-> \n",
      "\n",
      "正在尾部插入数值：\n"
     ]
    },
    {
     "name": "stdin",
     "output_type": "stream",
     "text": [
      "输入要插入的值： 8\n"
     ]
    },
    {
     "name": "stdout",
     "output_type": "stream",
     "text": [
      "操作后链表的状态：\n",
      "目前链表数据有： 4-> 8-> \n",
      "\n"
     ]
    },
    {
     "name": "stdin",
     "output_type": "stream",
     "text": [
      "--请输入0、1或者2进行下一步操作--： 1\n"
     ]
    },
    {
     "name": "stdout",
     "output_type": "stream",
     "text": [
      "目前的链表状态：\n",
      "目前链表数据有： 4-> 8-> \n",
      "\n",
      "正在尾部插入数值：\n"
     ]
    },
    {
     "name": "stdin",
     "output_type": "stream",
     "text": [
      "输入要插入的值： 9\n"
     ]
    },
    {
     "name": "stdout",
     "output_type": "stream",
     "text": [
      "操作后链表的状态：\n",
      "目前链表数据有： 4-> 8-> 9-> \n",
      "\n"
     ]
    },
    {
     "name": "stdin",
     "output_type": "stream",
     "text": [
      "--请输入0、1或者2进行下一步操作--： 2\n"
     ]
    },
    {
     "name": "stdout",
     "output_type": "stream",
     "text": [
      "目前的链表状态：\n",
      "目前链表数据有： 4-> 8-> 9-> \n",
      "\n",
      "正在头部插入数值：\n"
     ]
    },
    {
     "name": "stdin",
     "output_type": "stream",
     "text": [
      "输入要插入的值： 56\n"
     ]
    },
    {
     "name": "stdout",
     "output_type": "stream",
     "text": [
      "操作后链表的状态：\n",
      "目前链表数据有： 56-> 4-> 8-> 9-> \n",
      "\n"
     ]
    },
    {
     "name": "stdin",
     "output_type": "stream",
     "text": [
      "--请输入0、1或者2进行下一步操作--： 0\n"
     ]
    }
   ],
   "source": [
    "# 建立数据节点类\n",
    "class Node(object):\n",
    "    def __init__(self,data):\n",
    "        self.data = data\n",
    "        self.next = None\n",
    "\n",
    "# 创建单链表类\n",
    "class SLinkList(object):\n",
    "    def __init__(self):\n",
    "        self.head = None\n",
    "        self.length = 0\n",
    "\n",
    "    # 判断链表是否为空\n",
    "    def is_empty(self):\n",
    "        if self.head == None:\n",
    "            return True\n",
    "        else:\n",
    "            return False\n",
    "\n",
    "    # 在链表头插入数据p\n",
    "    def add(self,p):\n",
    "        if self.is_empty():\n",
    "            self.head = p\n",
    "        else:\n",
    "            p.next = self.head\n",
    "            self.head = p\n",
    "        self.length += 1\n",
    "\n",
    "    # 在链表尾加入数据p\n",
    "    def appendnode(self,p):\n",
    "        q = self.head\n",
    "        if self.is_empty():\n",
    "            self.add(p)\n",
    "        else:  # 移动到最后\n",
    "            while (q.next != None):\n",
    "                q = q.next\n",
    "            q.next = p\n",
    "            self.length += 1\n",
    "\n",
    "    # 输出链表当前状态\n",
    "    def travel(self):\n",
    "        q = self.head\n",
    "        if self.length == 0:\n",
    "            print(\"目前链表没有数据！\")\n",
    "        else:\n",
    "            print(\"目前链表数据有：\",end=\" \")\n",
    "            for i in range(self.length):\n",
    "                print(\"%s->\"%q.data,end=\" \")\n",
    "                q = q.next\n",
    "            print(\"\\n\")\n",
    "\n",
    "# 以插入的方式建立单链表示例\n",
    "if __name__ == '__main__':\n",
    "    # 实例化一个单链表对象\n",
    "    s = SLinkList()\n",
    "    print('''\n",
    "        0、结束所有操作\n",
    "        1、从尾部插入数值建立单链表\n",
    "        2、从头部插入数值建立单链表\n",
    "    ''')\n",
    "    while True:\n",
    "        number = eval(input(\"--请输入0、1或者2进行下一步操作--：\"))\n",
    "        if (number == 1):\n",
    "            print(\"目前的链表状态：\")\n",
    "            s.travel()\n",
    "            print(\"正在尾部插入数值：\")\n",
    "            p = Node(eval(input(\"输入要插入的值：\")))\n",
    "            s.appendnode(p)\n",
    "            print(\"操作后链表的状态：\")\n",
    "            s.travel()\n",
    "        elif (number == 2):\n",
    "            print(\"目前的链表状态：\")\n",
    "            s.travel()\n",
    "            print(\"正在头部插入数值：\")\n",
    "            p = Node(eval(input(\"输入要插入的值：\")))\n",
    "            s.add(p)\n",
    "            print(\"操作后链表的状态：\")\n",
    "            s.travel()\n",
    "        elif (number == 0):\n",
    "            break"
   ]
  },
  {
   "cell_type": "markdown",
   "id": "69cbff60-c571-4f0c-9794-2bf0ce0fa457",
   "metadata": {},
   "source": [
    "### 2.3.2 单链表 - 查找\n",
    "* 查找单链表中的节点"
   ]
  },
  {
   "cell_type": "code",
   "execution_count": 10,
   "id": "1308b1a3-2b70-43a5-8975-28daf438921a",
   "metadata": {},
   "outputs": [
    {
     "name": "stdout",
     "output_type": "stream",
     "text": [
      "\n",
      "        0、结束所有操作\n",
      "        1、从尾部插入数值建立单链表\n",
      "        2、从头部插入数值建立单链表\n",
      "        3、查找键盘上输入的数据是否在链表中\n",
      "    \n"
     ]
    },
    {
     "name": "stdin",
     "output_type": "stream",
     "text": [
      "--请输入0、1或者2进行下一步操作--： 1\n"
     ]
    },
    {
     "name": "stdout",
     "output_type": "stream",
     "text": [
      "目前的链表状态：\n",
      "目前链表没有数据！\n",
      "正在尾部插入数值：\n"
     ]
    },
    {
     "name": "stdin",
     "output_type": "stream",
     "text": [
      "输入要插入的值： 4\n"
     ]
    },
    {
     "name": "stdout",
     "output_type": "stream",
     "text": [
      "操作后链表的状态：\n",
      "目前链表数据有： 4-> \n",
      "\n"
     ]
    },
    {
     "name": "stdin",
     "output_type": "stream",
     "text": [
      "--请输入0、1或者2进行下一步操作--： 1\n"
     ]
    },
    {
     "name": "stdout",
     "output_type": "stream",
     "text": [
      "目前的链表状态：\n",
      "目前链表数据有： 4-> \n",
      "\n",
      "正在尾部插入数值：\n"
     ]
    },
    {
     "name": "stdin",
     "output_type": "stream",
     "text": [
      "输入要插入的值： 7\n"
     ]
    },
    {
     "name": "stdout",
     "output_type": "stream",
     "text": [
      "操作后链表的状态：\n",
      "目前链表数据有： 4-> 7-> \n",
      "\n"
     ]
    },
    {
     "name": "stdin",
     "output_type": "stream",
     "text": [
      "--请输入0、1或者2进行下一步操作--： 1\n"
     ]
    },
    {
     "name": "stdout",
     "output_type": "stream",
     "text": [
      "目前的链表状态：\n",
      "目前链表数据有： 4-> 7-> \n",
      "\n",
      "正在尾部插入数值：\n"
     ]
    },
    {
     "name": "stdin",
     "output_type": "stream",
     "text": [
      "输入要插入的值： 9\n"
     ]
    },
    {
     "name": "stdout",
     "output_type": "stream",
     "text": [
      "操作后链表的状态：\n",
      "目前链表数据有： 4-> 7-> 9-> \n",
      "\n"
     ]
    },
    {
     "name": "stdin",
     "output_type": "stream",
     "text": [
      "--请输入0、1或者2进行下一步操作--： 2\n"
     ]
    },
    {
     "name": "stdout",
     "output_type": "stream",
     "text": [
      "目前的链表状态：\n",
      "目前链表数据有： 4-> 7-> 9-> \n",
      "\n",
      "正在头部插入数值：\n"
     ]
    },
    {
     "name": "stdin",
     "output_type": "stream",
     "text": [
      "输入要插入的值： 78\n"
     ]
    },
    {
     "name": "stdout",
     "output_type": "stream",
     "text": [
      "操作后链表的状态：\n",
      "目前链表数据有： 78-> 4-> 7-> 9-> \n",
      "\n"
     ]
    },
    {
     "name": "stdin",
     "output_type": "stream",
     "text": [
      "--请输入0、1或者2进行下一步操作--： 3\n"
     ]
    },
    {
     "name": "stdout",
     "output_type": "stream",
     "text": [
      "目前的链表状态：\n",
      "目前链表数据有： 78-> 4-> 7-> 9-> \n",
      "\n",
      "正在查找一个节点是否在链表中：\n"
     ]
    },
    {
     "name": "stdin",
     "output_type": "stream",
     "text": [
      "输入要查找的值： 7\n"
     ]
    },
    {
     "name": "stdout",
     "output_type": "stream",
     "text": [
      "7在链表中的3处\n",
      "\n"
     ]
    },
    {
     "name": "stdin",
     "output_type": "stream",
     "text": [
      "--请输入0、1或者2进行下一步操作--： 0\n"
     ]
    }
   ],
   "source": [
    "# 建立数据节点类\n",
    "class Node(object):\n",
    "    def __init__(self,data):\n",
    "        self.data = data\n",
    "        self.next = None\n",
    "\n",
    "# 创建单链表类\n",
    "class SLinkList(object):\n",
    "    def __init__(self):\n",
    "        self.head = None\n",
    "        self.length = 0\n",
    "\n",
    "    # 判断链表是否为空\n",
    "    def is_empty(self):\n",
    "        if self.head == None:\n",
    "            return True\n",
    "        else:\n",
    "            return False\n",
    "\n",
    "    # 在链表头插入数据p\n",
    "    def add(self,p):\n",
    "        if self.is_empty():\n",
    "            self.head = p\n",
    "        else:\n",
    "            p.next = self.head\n",
    "            self.head = p\n",
    "        self.length += 1\n",
    "\n",
    "    # 在链表尾加入数据p\n",
    "    def appendnode(self,p):\n",
    "        q = self.head\n",
    "        if self.is_empty():\n",
    "            self.add(p)\n",
    "        else:  # 移动到最后\n",
    "            while (q.next != None):\n",
    "                q = q.next\n",
    "            q.next = p\n",
    "            self.length += 1\n",
    "\n",
    "    # 查找是否包含某个数据，并返回下标\n",
    "    def find(self,num):\n",
    "        contain = 0\n",
    "        q = self.head\n",
    "        for i in range(self.length):\n",
    "            if q.data == num:\n",
    "                print(\"%d在链表中的%d处\\n\"%(num,i+1))\n",
    "                contain = 1\n",
    "            q = q.next\n",
    "        if contain == 0:\n",
    "            print(\"%d不在链表中\\n\"% num)\n",
    "\n",
    "    # 输出链表当前状态\n",
    "    def travel(self):\n",
    "        q = self.head\n",
    "        if self.length == 0:\n",
    "            print(\"目前链表没有数据！\")\n",
    "        else:\n",
    "            print(\"目前链表数据有：\",end=\" \")\n",
    "            for i in range(self.length):\n",
    "                print(\"%s->\"%q.data,end=\" \")\n",
    "                q = q.next\n",
    "            print(\"\\n\")\n",
    "\n",
    "# 以插入的方式建立单链表示例\n",
    "if __name__ == '__main__':\n",
    "    # 实例化一个单链表对象\n",
    "    s = SLinkList()\n",
    "    print('''\n",
    "        0、结束所有操作\n",
    "        1、从尾部插入数值建立单链表\n",
    "        2、从头部插入数值建立单链表\n",
    "        3、查找键盘上输入的数据是否在链表中\n",
    "    ''')\n",
    "    while True:\n",
    "        number = eval(input(\"--请输入0、1或者2进行下一步操作--：\"))\n",
    "        if (number == 1):\n",
    "            print(\"目前的链表状态：\")\n",
    "            s.travel()\n",
    "            print(\"正在尾部插入数值：\")\n",
    "            p = Node(eval(input(\"输入要插入的值：\")))\n",
    "            s.appendnode(p)\n",
    "            print(\"操作后链表的状态：\")\n",
    "            s.travel()\n",
    "        elif (number == 2):\n",
    "            print(\"目前的链表状态：\")\n",
    "            s.travel()\n",
    "            print(\"正在头部插入数值：\")\n",
    "            p = Node(eval(input(\"输入要插入的值：\")))\n",
    "            s.add(p)\n",
    "            print(\"操作后链表的状态：\")\n",
    "            s.travel()\n",
    "        elif (number == 3):\n",
    "            print(\"目前的链表状态：\")\n",
    "            s.travel()\n",
    "            print(\"正在查找一个节点是否在链表中：\")\n",
    "            x = input(\"输入要查找的值：\")\n",
    "            s.find(eval(x))\n",
    "        elif (number == 0):\n",
    "            break"
   ]
  },
  {
   "cell_type": "markdown",
   "id": "5ee2b282-81c7-47a7-b582-bf54be68170d",
   "metadata": {},
   "source": [
    "### 2.3.2 单链表---插入数据"
   ]
  },
  {
   "cell_type": "code",
   "execution_count": 11,
   "id": "5b9c7960-348d-4f03-b310-7e31bf331368",
   "metadata": {},
   "outputs": [
    {
     "name": "stdout",
     "output_type": "stream",
     "text": [
      "\n",
      "        0、结束所有操作\n",
      "        1、从尾部插入数值建立单链表\n",
      "        2、从头部插入数值建立单链表\n",
      "        4、在链表指定位置插入数据\n",
      "    \n"
     ]
    },
    {
     "name": "stdin",
     "output_type": "stream",
     "text": [
      "--请输入0、1或者2进行下一步操作--： 1\n"
     ]
    },
    {
     "name": "stdout",
     "output_type": "stream",
     "text": [
      "目前的链表状态：\n",
      "目前链表没有数据！\n",
      "正在尾部插入数值：\n"
     ]
    },
    {
     "name": "stdin",
     "output_type": "stream",
     "text": [
      "输入要插入的值： 4\n"
     ]
    },
    {
     "name": "stdout",
     "output_type": "stream",
     "text": [
      "操作后链表的状态：\n",
      "目前链表数据有： 4-> \n",
      "\n"
     ]
    },
    {
     "name": "stdin",
     "output_type": "stream",
     "text": [
      "--请输入0、1或者2进行下一步操作--： 1\n"
     ]
    },
    {
     "name": "stdout",
     "output_type": "stream",
     "text": [
      "目前的链表状态：\n",
      "目前链表数据有： 4-> \n",
      "\n",
      "正在尾部插入数值：\n"
     ]
    },
    {
     "name": "stdin",
     "output_type": "stream",
     "text": [
      "输入要插入的值： 6\n"
     ]
    },
    {
     "name": "stdout",
     "output_type": "stream",
     "text": [
      "操作后链表的状态：\n",
      "目前链表数据有： 4-> 6-> \n",
      "\n"
     ]
    },
    {
     "name": "stdin",
     "output_type": "stream",
     "text": [
      "--请输入0、1或者2进行下一步操作--： 1\n"
     ]
    },
    {
     "name": "stdout",
     "output_type": "stream",
     "text": [
      "目前的链表状态：\n",
      "目前链表数据有： 4-> 6-> \n",
      "\n",
      "正在尾部插入数值：\n"
     ]
    },
    {
     "name": "stdin",
     "output_type": "stream",
     "text": [
      "输入要插入的值： 8\n"
     ]
    },
    {
     "name": "stdout",
     "output_type": "stream",
     "text": [
      "操作后链表的状态：\n",
      "目前链表数据有： 4-> 6-> 8-> \n",
      "\n"
     ]
    },
    {
     "name": "stdin",
     "output_type": "stream",
     "text": [
      "--请输入0、1或者2进行下一步操作--： 2\n"
     ]
    },
    {
     "name": "stdout",
     "output_type": "stream",
     "text": [
      "目前的链表状态：\n",
      "目前链表数据有： 4-> 6-> 8-> \n",
      "\n",
      "正在头部插入数值：\n"
     ]
    },
    {
     "name": "stdin",
     "output_type": "stream",
     "text": [
      "输入要插入的值： 9\n"
     ]
    },
    {
     "name": "stdout",
     "output_type": "stream",
     "text": [
      "操作后链表的状态：\n",
      "目前链表数据有： 9-> 4-> 6-> 8-> \n",
      "\n"
     ]
    },
    {
     "name": "stdin",
     "output_type": "stream",
     "text": [
      "--请输入0、1或者2进行下一步操作--： 4\n"
     ]
    },
    {
     "name": "stdout",
     "output_type": "stream",
     "text": [
      "目前的链表状态：\n",
      "目前链表数据有： 9-> 4-> 6-> 8-> \n",
      "\n",
      "正在按指定位置插入数值到链表中：\n"
     ]
    },
    {
     "name": "stdin",
     "output_type": "stream",
     "text": [
      "输入要插入的值： 45\n",
      "输入要插入的位置： 2\n"
     ]
    },
    {
     "name": "stdout",
     "output_type": "stream",
     "text": [
      "操作后链表的状态：\n",
      "目前链表数据有： 9-> 45-> 4-> 6-> 8-> \n",
      "\n"
     ]
    },
    {
     "name": "stdin",
     "output_type": "stream",
     "text": [
      "--请输入0、1或者2进行下一步操作--： 0\n"
     ]
    }
   ],
   "source": [
    "# 建立数据节点类\n",
    "class Node(object):\n",
    "    def __init__(self,data):\n",
    "        self.data = data\n",
    "        self.next = None\n",
    "\n",
    "# 创建单链表类\n",
    "class SLinkList(object):\n",
    "    def __init__(self):\n",
    "        self.head = None\n",
    "        self.length = 0\n",
    "\n",
    "    # 判断链表是否为空\n",
    "    def is_empty(self):\n",
    "        if self.head == None:\n",
    "            return True\n",
    "        else:\n",
    "            return False\n",
    "\n",
    "    # 在链表头插入数据p\n",
    "    def add(self,p):\n",
    "        if self.is_empty():\n",
    "            self.head = p\n",
    "        else:\n",
    "            p.next = self.head\n",
    "            self.head = p\n",
    "        self.length += 1\n",
    "\n",
    "    # 在链表尾加入数据p\n",
    "    def appendnode(self,p):\n",
    "        q = self.head\n",
    "        if self.is_empty():\n",
    "            self.add(p)\n",
    "        else:  # 移动到最后\n",
    "            while (q.next != None):\n",
    "                q = q.next\n",
    "            q.next = p\n",
    "            self.length += 1\n",
    "\n",
    "    # 查找是否包含某个数据，并返回下标\n",
    "    def insert(self,p,index):\n",
    "        q = self.head\n",
    "        while (index > self.length + 1 or index <= 0):\n",
    "            print(\"你要插入的位置不对，请重新选择位置：\")\n",
    "            index = eval(input())\n",
    "        if index == 1:\n",
    "            self.add(p)\n",
    "        else:\n",
    "            for i in range(1,index - 1):\n",
    "                q = q.next\n",
    "            p.next = q.next\n",
    "            q.next = p\n",
    "            self.length += 1\n",
    "\n",
    "    # 输出链表当前状态\n",
    "    def travel(self):\n",
    "        q = self.head\n",
    "        if self.length == 0:\n",
    "            print(\"目前链表没有数据！\")\n",
    "        else:\n",
    "            print(\"目前链表数据有：\",end=\" \")\n",
    "            for i in range(self.length):\n",
    "                print(\"%s->\"%q.data,end=\" \")\n",
    "                q = q.next\n",
    "            print(\"\\n\")\n",
    "\n",
    "# 单链表插入数据示例\n",
    "if __name__ == '__main__':\n",
    "    # 实例化一个单链表对象\n",
    "    s = SLinkList()\n",
    "    print('''\n",
    "        0、结束所有操作\n",
    "        1、从尾部插入数值建立单链表\n",
    "        2、从头部插入数值建立单链表\n",
    "        4、在链表指定位置插入数据\n",
    "    ''')\n",
    "    while True:\n",
    "        number = eval(input(\"--请输入0、1或者2进行下一步操作--：\"))\n",
    "        if (number == 1):\n",
    "            print(\"目前的链表状态：\")\n",
    "            s.travel()\n",
    "            print(\"正在尾部插入数值：\")\n",
    "            p = Node(eval(input(\"输入要插入的值：\")))\n",
    "            s.appendnode(p)\n",
    "            print(\"操作后链表的状态：\")\n",
    "            s.travel()\n",
    "        elif (number == 2):\n",
    "            print(\"目前的链表状态：\")\n",
    "            s.travel()\n",
    "            print(\"正在头部插入数值：\")\n",
    "            p = Node(eval(input(\"输入要插入的值：\")))\n",
    "            s.add(p)\n",
    "            print(\"操作后链表的状态：\")\n",
    "            s.travel()\n",
    "        elif (number == 4):\n",
    "            print(\"目前的链表状态：\")\n",
    "            s.travel()\n",
    "            print(\"正在按指定位置插入数值到链表中：\")\n",
    "            p = Node(eval(input(\"输入要插入的值：\")))\n",
    "            position = eval(input(\"输入要插入的位置：\"))\n",
    "            s.insert(p,position)\n",
    "            print(\"操作后链表的状态：\")\n",
    "            s.travel()\n",
    "        elif (number == 0):\n",
    "            break"
   ]
  },
  {
   "cell_type": "markdown",
   "id": "5ed7b110-2667-4de2-9f4a-a48e49f39d01",
   "metadata": {},
   "source": [
    "### 2.3.2 单链表--删除运算"
   ]
  },
  {
   "cell_type": "code",
   "execution_count": 1,
   "id": "ec93a0d3-a55c-40f0-bfb2-dc965b15e9f7",
   "metadata": {},
   "outputs": [
    {
     "name": "stdout",
     "output_type": "stream",
     "text": [
      "\n",
      "        0、结束所有操作\n",
      "        1、从尾部插入数值建立单链表\n",
      "        2、从头部插入数值建立单链表\n",
      "        5、在链表中删除指定位置的数据\n",
      "    \n"
     ]
    },
    {
     "name": "stdin",
     "output_type": "stream",
     "text": [
      "--请输入0、1或者2进行下一步操作--： 1\n"
     ]
    },
    {
     "name": "stdout",
     "output_type": "stream",
     "text": [
      "目前的链表状态：\n",
      "目前链表没有数据！\n",
      "正在尾部插入数值：\n"
     ]
    },
    {
     "name": "stdin",
     "output_type": "stream",
     "text": [
      "输入要插入的值： 4\n"
     ]
    },
    {
     "name": "stdout",
     "output_type": "stream",
     "text": [
      "操作后链表的状态：\n",
      "目前链表数据有： 4-> \n",
      "\n"
     ]
    },
    {
     "name": "stdin",
     "output_type": "stream",
     "text": [
      "--请输入0、1或者2进行下一步操作--： 1\n"
     ]
    },
    {
     "name": "stdout",
     "output_type": "stream",
     "text": [
      "目前的链表状态：\n",
      "目前链表数据有： 4-> \n",
      "\n",
      "正在尾部插入数值：\n"
     ]
    },
    {
     "name": "stdin",
     "output_type": "stream",
     "text": [
      "输入要插入的值： 5\n"
     ]
    },
    {
     "name": "stdout",
     "output_type": "stream",
     "text": [
      "操作后链表的状态：\n",
      "目前链表数据有： 4-> 5-> \n",
      "\n"
     ]
    },
    {
     "name": "stdin",
     "output_type": "stream",
     "text": [
      "--请输入0、1或者2进行下一步操作--： 1\n"
     ]
    },
    {
     "name": "stdout",
     "output_type": "stream",
     "text": [
      "目前的链表状态：\n",
      "目前链表数据有： 4-> 5-> \n",
      "\n",
      "正在尾部插入数值：\n"
     ]
    },
    {
     "name": "stdin",
     "output_type": "stream",
     "text": [
      "输入要插入的值： 8\n"
     ]
    },
    {
     "name": "stdout",
     "output_type": "stream",
     "text": [
      "操作后链表的状态：\n",
      "目前链表数据有： 4-> 5-> 8-> \n",
      "\n"
     ]
    },
    {
     "name": "stdin",
     "output_type": "stream",
     "text": [
      "--请输入0、1或者2进行下一步操作--： 1\n"
     ]
    },
    {
     "name": "stdout",
     "output_type": "stream",
     "text": [
      "目前的链表状态：\n",
      "目前链表数据有： 4-> 5-> 8-> \n",
      "\n",
      "正在尾部插入数值：\n"
     ]
    },
    {
     "name": "stdin",
     "output_type": "stream",
     "text": [
      "输入要插入的值： 9\n"
     ]
    },
    {
     "name": "stdout",
     "output_type": "stream",
     "text": [
      "操作后链表的状态：\n",
      "目前链表数据有： 4-> 5-> 8-> 9-> \n",
      "\n"
     ]
    },
    {
     "name": "stdin",
     "output_type": "stream",
     "text": [
      "--请输入0、1或者2进行下一步操作--： 5\n"
     ]
    },
    {
     "name": "stdout",
     "output_type": "stream",
     "text": [
      "目前的链表状态：\n",
      "目前链表数据有： 4-> 5-> 8-> 9-> \n",
      "\n",
      "正在删除：\n"
     ]
    },
    {
     "name": "stdin",
     "output_type": "stream",
     "text": [
      "输入要删除的位置： 2\n"
     ]
    },
    {
     "name": "stdout",
     "output_type": "stream",
     "text": [
      "操作后链表的状态：\n",
      "目前链表数据有： 4-> 8-> 9-> \n",
      "\n"
     ]
    },
    {
     "name": "stdin",
     "output_type": "stream",
     "text": [
      "--请输入0、1或者2进行下一步操作--： 0\n"
     ]
    }
   ],
   "source": [
    "# 建立数据节点类\n",
    "class Node(object):\n",
    "    def __init__(self,data):\n",
    "        self.data = data\n",
    "        self.next = None\n",
    "\n",
    "# 创建单链表类\n",
    "class SLinkList(object):\n",
    "    def __init__(self):\n",
    "        self.head = None\n",
    "        self.length = 0\n",
    "\n",
    "    # 判断链表是否为空\n",
    "    def is_empty(self):\n",
    "        if self.head == None:\n",
    "            return True\n",
    "        else:\n",
    "            return False\n",
    "\n",
    "    # 在链表头插入数据p\n",
    "    def add(self,p):\n",
    "        if self.is_empty():\n",
    "            self.head = p\n",
    "        else:\n",
    "            p.next = self.head\n",
    "            self.head = p\n",
    "        self.length += 1\n",
    "\n",
    "    # 在链表尾加入数据p\n",
    "    def appendnode(self,p):\n",
    "        q = self.head\n",
    "        if self.is_empty():\n",
    "            self.add(p)\n",
    "        else:  # 移动到最后\n",
    "            while (q.next != None):\n",
    "                q = q.next\n",
    "            q.next = p\n",
    "            self.length += 1\n",
    "\n",
    "    # 删除某个数据\n",
    "    def delete(self,index):\n",
    "        if (index > self.length or index < 0):\n",
    "            print(\"你输入的位置不对，请重新输入要删除的位置：\")\n",
    "            return\n",
    "        else:\n",
    "            if index == 1:\n",
    "                p = self.head\n",
    "                self.head = self.head.next\n",
    "                del p\n",
    "            else:\n",
    "                q = self.head\n",
    "                p = q.next\n",
    "                for i in range(1, index - 1):\n",
    "                    q = p\n",
    "                    p = p.next\n",
    "                q.next = p.next\n",
    "                del p\n",
    "            self.length -=1\n",
    "\n",
    "    # 输出链表当前状态\n",
    "    def travel(self):\n",
    "        q = self.head\n",
    "        if self.length == 0:\n",
    "            print(\"目前链表没有数据！\")\n",
    "        else:\n",
    "            print(\"目前链表数据有：\",end=\" \")\n",
    "            for i in range(self.length):\n",
    "                print(\"%s->\"%q.data,end=\" \")\n",
    "                q = q.next\n",
    "            print(\"\\n\")\n",
    "\n",
    "# 单链表删除数据示例\n",
    "if __name__ == '__main__':\n",
    "    # 实例化一个单链表对象\n",
    "    s = SLinkList()\n",
    "    print('''\n",
    "        0、结束所有操作\n",
    "        1、从尾部插入数值建立单链表\n",
    "        2、从头部插入数值建立单链表\n",
    "        5、在链表中删除指定位置的数据\n",
    "    ''')\n",
    "    while True:\n",
    "        number = eval(input(\"--请输入0、1或者2进行下一步操作--：\"))\n",
    "        if (number == 1):\n",
    "            print(\"目前的链表状态：\")\n",
    "            s.travel()\n",
    "            print(\"正在尾部插入数值：\")\n",
    "            p = Node(eval(input(\"输入要插入的值：\")))\n",
    "            s.appendnode(p)\n",
    "            print(\"操作后链表的状态：\")\n",
    "            s.travel()\n",
    "        elif (number == 2):\n",
    "            print(\"目前的链表状态：\")\n",
    "            s.travel()\n",
    "            print(\"正在头部插入数值：\")\n",
    "            p = Node(eval(input(\"输入要插入的值：\")))\n",
    "            s.add(p)\n",
    "            print(\"操作后链表的状态：\")\n",
    "            s.travel()\n",
    "        elif (number == 5):\n",
    "            print(\"目前的链表状态：\")\n",
    "            s.travel()\n",
    "            print(\"正在删除：\")\n",
    "            position = eval(input(\"输入要删除的位置：\"))\n",
    "            s.delete(position)\n",
    "            print(\"操作后链表的状态：\")\n",
    "            s.travel()\n",
    "        elif (number == 0):\n",
    "            break"
   ]
  },
  {
   "cell_type": "markdown",
   "id": "b41ae6d9-eb4c-491b-976d-1e4d090317e9",
   "metadata": {},
   "source": [
    "### 2.3.2 单链表--对单链表进行排序\n",
    "* 采用冒泡排序法"
   ]
  },
  {
   "cell_type": "code",
   "execution_count": 2,
   "id": "05ef9580-aee4-429e-b365-94d90c3e8ff3",
   "metadata": {},
   "outputs": [
    {
     "name": "stdout",
     "output_type": "stream",
     "text": [
      "\n",
      "        0、结束所有操作\n",
      "        1、从尾部插入数值建立单链表\n",
      "        2、从头部插入数值建立单链表\n",
      "        6、对单链表的数据进行排序\n",
      "    \n"
     ]
    },
    {
     "name": "stdin",
     "output_type": "stream",
     "text": [
      "--请输入0、1或者2进行下一步操作--： 1\n"
     ]
    },
    {
     "name": "stdout",
     "output_type": "stream",
     "text": [
      "目前的链表状态：\n",
      "目前链表没有数据！\n",
      "正在尾部插入数值：\n"
     ]
    },
    {
     "name": "stdin",
     "output_type": "stream",
     "text": [
      "输入要插入的值： 4\n"
     ]
    },
    {
     "name": "stdout",
     "output_type": "stream",
     "text": [
      "操作后链表的状态：\n",
      "目前链表数据有： 4-> \n",
      "\n"
     ]
    },
    {
     "name": "stdin",
     "output_type": "stream",
     "text": [
      "--请输入0、1或者2进行下一步操作--： 1\n"
     ]
    },
    {
     "name": "stdout",
     "output_type": "stream",
     "text": [
      "目前的链表状态：\n",
      "目前链表数据有： 4-> \n",
      "\n",
      "正在尾部插入数值：\n"
     ]
    },
    {
     "name": "stdin",
     "output_type": "stream",
     "text": [
      "输入要插入的值： 67\n"
     ]
    },
    {
     "name": "stdout",
     "output_type": "stream",
     "text": [
      "操作后链表的状态：\n",
      "目前链表数据有： 4-> 67-> \n",
      "\n"
     ]
    },
    {
     "name": "stdin",
     "output_type": "stream",
     "text": [
      "--请输入0、1或者2进行下一步操作--： 1\n"
     ]
    },
    {
     "name": "stdout",
     "output_type": "stream",
     "text": [
      "目前的链表状态：\n",
      "目前链表数据有： 4-> 67-> \n",
      "\n",
      "正在尾部插入数值：\n"
     ]
    },
    {
     "name": "stdin",
     "output_type": "stream",
     "text": [
      "输入要插入的值： 56\n"
     ]
    },
    {
     "name": "stdout",
     "output_type": "stream",
     "text": [
      "操作后链表的状态：\n",
      "目前链表数据有： 4-> 67-> 56-> \n",
      "\n"
     ]
    },
    {
     "name": "stdin",
     "output_type": "stream",
     "text": [
      "--请输入0、1或者2进行下一步操作--： 1\n"
     ]
    },
    {
     "name": "stdout",
     "output_type": "stream",
     "text": [
      "目前的链表状态：\n",
      "目前链表数据有： 4-> 67-> 56-> \n",
      "\n",
      "正在尾部插入数值：\n"
     ]
    },
    {
     "name": "stdin",
     "output_type": "stream",
     "text": [
      "输入要插入的值： 8\n"
     ]
    },
    {
     "name": "stdout",
     "output_type": "stream",
     "text": [
      "操作后链表的状态：\n",
      "目前链表数据有： 4-> 67-> 56-> 8-> \n",
      "\n"
     ]
    },
    {
     "name": "stdin",
     "output_type": "stream",
     "text": [
      "--请输入0、1或者2进行下一步操作--： 6\n"
     ]
    },
    {
     "name": "stdout",
     "output_type": "stream",
     "text": [
      "目前的链表状态：\n",
      "目前链表数据有： 4-> 67-> 56-> 8-> \n",
      "\n",
      "正在排序：\n",
      "操作后链表的状态：\n",
      "目前链表数据有： 4-> 8-> 56-> 67-> \n",
      "\n"
     ]
    },
    {
     "name": "stdin",
     "output_type": "stream",
     "text": [
      "--请输入0、1或者2进行下一步操作--： 0\n"
     ]
    }
   ],
   "source": [
    "# 建立数据节点类\n",
    "class Node(object):\n",
    "    def __init__(self,data):\n",
    "        self.data = data\n",
    "        self.next = None\n",
    "\n",
    "# 创建单链表类\n",
    "class SLinkList(object):\n",
    "    def __init__(self):\n",
    "        self.head = None\n",
    "        self.length = 0\n",
    "\n",
    "    # 判断链表是否为空\n",
    "    def is_empty(self):\n",
    "        if self.head == None:\n",
    "            return True\n",
    "        else:\n",
    "            return False\n",
    "\n",
    "    # 在链表头插入数据p\n",
    "    def add(self,p):\n",
    "        if self.is_empty():\n",
    "            self.head = p\n",
    "        else:\n",
    "            p.next = self.head\n",
    "            self.head = p\n",
    "        self.length += 1\n",
    "\n",
    "    # 在链表尾加入数据p\n",
    "    def appendnode(self,p):\n",
    "        q = self.head\n",
    "        if self.is_empty():\n",
    "            self.add(p)\n",
    "        else:  # 移动到最后\n",
    "            while (q.next != None):\n",
    "                q = q.next\n",
    "            q.next = p\n",
    "            self.length += 1\n",
    "\n",
    "    # 对链表排序；排序不交换节点的位置，只需交换节点的数据值\n",
    "    def list_sort(self):\n",
    "        for i in range(0,self.length - 1):\n",
    "            q = self.head\n",
    "            for j in range(0, self.length - i - 1):\n",
    "                if q.data > q.next.data:\n",
    "                    temp = q.data\n",
    "                    q.data = q.next.data\n",
    "                    q.next.data = temp\n",
    "                q = q.next \n",
    "\n",
    "    # 输出链表当前状态\n",
    "    def travel(self):\n",
    "        q = self.head\n",
    "        if self.length == 0:\n",
    "            print(\"目前链表没有数据！\")\n",
    "        else:\n",
    "            print(\"目前链表数据有：\",end=\" \")\n",
    "            for i in range(self.length):\n",
    "                print(\"%s->\"%q.data,end=\" \")\n",
    "                q = q.next\n",
    "            print(\"\\n\")\n",
    "\n",
    "# 排序单链表示例\n",
    "if __name__ == '__main__':\n",
    "    # 实例化一个单链表对象\n",
    "    s = SLinkList()\n",
    "    print('''\n",
    "        0、结束所有操作\n",
    "        1、从尾部插入数值建立单链表\n",
    "        2、从头部插入数值建立单链表\n",
    "        6、对单链表的数据进行排序\n",
    "    ''')\n",
    "    while True:\n",
    "        number = eval(input(\"--请输入0、1或者2进行下一步操作--：\"))\n",
    "        if (number == 1):\n",
    "            print(\"目前的链表状态：\")\n",
    "            s.travel()\n",
    "            print(\"正在尾部插入数值：\")\n",
    "            p = Node(eval(input(\"输入要插入的值：\")))\n",
    "            s.appendnode(p)\n",
    "            print(\"操作后链表的状态：\")\n",
    "            s.travel()\n",
    "        elif (number == 2):\n",
    "            print(\"目前的链表状态：\")\n",
    "            s.travel()\n",
    "            print(\"正在头部插入数值：\")\n",
    "            p = Node(eval(input(\"输入要插入的值：\")))\n",
    "            s.add(p)\n",
    "            print(\"操作后链表的状态：\")\n",
    "            s.travel()\n",
    "        elif (number == 6):\n",
    "            print(\"目前的链表状态：\")\n",
    "            s.travel()\n",
    "            print(\"正在排序：\")\n",
    "            s.list_sort()\n",
    "            print(\"操作后链表的状态：\")\n",
    "            s.travel()\n",
    "        elif (number == 0):\n",
    "            break"
   ]
  },
  {
   "cell_type": "markdown",
   "id": "0393de8f-f98f-45a8-bdc8-9895913c5ed6",
   "metadata": {},
   "source": [
    "### 2.3.4 双向链表 -- 插入运算"
   ]
  },
  {
   "cell_type": "code",
   "execution_count": 6,
   "id": "99c9647a-02f8-42b2-904f-ff6be5b12788",
   "metadata": {},
   "outputs": [
    {
     "name": "stdout",
     "output_type": "stream",
     "text": [
      "\n",
      "        0、结束所有操作\n",
      "        1、从尾部插入数值建立单链表\n",
      "        2、从头部插入数值建立单链表\n",
      "        3、在双向链表制定位置插入数据\n",
      "    \n"
     ]
    },
    {
     "name": "stdin",
     "output_type": "stream",
     "text": [
      "--请输入0、1、2或者3进行下一步操作--： 1\n"
     ]
    },
    {
     "name": "stdout",
     "output_type": "stream",
     "text": [
      "目前的链表状态：\n",
      " \n",
      "正在尾部插入数值：\n"
     ]
    },
    {
     "name": "stdin",
     "output_type": "stream",
     "text": [
      "输入要插入的值： 4\n"
     ]
    },
    {
     "name": "stdout",
     "output_type": "stream",
     "text": [
      "操作后链表的状态：\n",
      "4-> <-  \n"
     ]
    },
    {
     "name": "stdin",
     "output_type": "stream",
     "text": [
      "--请输入0、1、2或者3进行下一步操作--： 1\n"
     ]
    },
    {
     "name": "stdout",
     "output_type": "stream",
     "text": [
      "目前的链表状态：\n",
      "4-> <-  \n",
      "正在尾部插入数值：\n"
     ]
    },
    {
     "name": "stdin",
     "output_type": "stream",
     "text": [
      "输入要插入的值： 6\n"
     ]
    },
    {
     "name": "stdout",
     "output_type": "stream",
     "text": [
      "操作后链表的状态：\n",
      "4-> <- 6-> <-  \n"
     ]
    },
    {
     "name": "stdin",
     "output_type": "stream",
     "text": [
      "--请输入0、1、2或者3进行下一步操作--： 1\n"
     ]
    },
    {
     "name": "stdout",
     "output_type": "stream",
     "text": [
      "目前的链表状态：\n",
      "4-> <- 6-> <-  \n",
      "正在尾部插入数值：\n"
     ]
    },
    {
     "name": "stdin",
     "output_type": "stream",
     "text": [
      "输入要插入的值： 8\n"
     ]
    },
    {
     "name": "stdout",
     "output_type": "stream",
     "text": [
      "操作后链表的状态：\n",
      "4-> <- 6-> <- 8-> <-  \n"
     ]
    },
    {
     "name": "stdin",
     "output_type": "stream",
     "text": [
      "--请输入0、1、2或者3进行下一步操作--： 2\n"
     ]
    },
    {
     "name": "stdout",
     "output_type": "stream",
     "text": [
      "目前的链表状态：\n",
      "4-> <- 6-> <- 8-> <-  \n",
      "正在头部插入数值：\n"
     ]
    },
    {
     "name": "stdin",
     "output_type": "stream",
     "text": [
      "输入要插入的值： 23\n"
     ]
    },
    {
     "name": "stdout",
     "output_type": "stream",
     "text": [
      "操作后链表的状态：\n",
      "23-> <- 4-> <- 6-> <- 8-> <-  \n"
     ]
    },
    {
     "name": "stdin",
     "output_type": "stream",
     "text": [
      "--请输入0、1、2或者3进行下一步操作--： 3\n"
     ]
    },
    {
     "name": "stdout",
     "output_type": "stream",
     "text": [
      "目前的链表状态：\n",
      "23-> <- 4-> <- 6-> <- 8-> <-  \n",
      "正在按指定位置插入数值到链表中：\n"
     ]
    },
    {
     "name": "stdin",
     "output_type": "stream",
     "text": [
      "输入要插入的值： 56\n",
      "输入要插入的位置： 3\n"
     ]
    },
    {
     "name": "stdout",
     "output_type": "stream",
     "text": [
      "操作后链表的状态：\n",
      "23-> <- 4-> <- 56-> <- 6-> <- 8-> <-  \n"
     ]
    },
    {
     "name": "stdin",
     "output_type": "stream",
     "text": [
      "--请输入0、1、2或者3进行下一步操作--： 0\n"
     ]
    }
   ],
   "source": [
    "# 建立双向节点类\n",
    "class DoubleNode(object):\n",
    "    def __init__(self,data):\n",
    "        self.data = data\n",
    "        self.next = None\n",
    "        self.prior = None\n",
    "\n",
    "# 创建双向链表类\n",
    "class DLinkList(object):\n",
    "    def __init__(self):\n",
    "        self._head = None\n",
    "        self.length = 0\n",
    "\n",
    "    # 判断链表是否为空\n",
    "    def is_empty(self):\n",
    "        if self._head == None:\n",
    "            return True\n",
    "        else:\n",
    "            return False\n",
    "\n",
    "    # 输出链表当前状态\n",
    "    def travel(self):\n",
    "        cur = self._head\n",
    "        while cur != None:\n",
    "            print(\"%s-> <-\"% cur.data, end = \" \")\n",
    "            cur = cur.next\n",
    "        print(\" \")\n",
    "    \n",
    "    # 在链表头插入数据p\n",
    "    def add(self,node):\n",
    "        if self.is_empty():\n",
    "            self._head = node\n",
    "        else:\n",
    "            # 将node的next指向_head的头节点\n",
    "            node.next = self._head\n",
    "            # 将_head的头节点的prior指向node\n",
    "            self._head.prior = node\n",
    "            # 将_head指向node\n",
    "            self._head = node\n",
    "        self.length += 1\n",
    "\n",
    "    # 在链表尾加入数据p\n",
    "    def appendnode(self,node):\n",
    "        if self.is_empty():\n",
    "            self._head = node\n",
    "        else:  # 移动到最后\n",
    "            cur = self._head\n",
    "            while cur.next != None:\n",
    "                cur = cur.next\n",
    "            # 将尾结点cur的next指向node\n",
    "            cur.next = node\n",
    "            # 将node的prior指向cur\n",
    "            node.prior = cur\n",
    "        self.length +=1\n",
    "\n",
    "    # 插入某个数据\n",
    "    def insert(self,node,pos):\n",
    "        # 在指定位置添加节点\n",
    "        if pos < 0 or pos > self.length + 1:\n",
    "            print(\"你输入的位置错误，不能添加\")\n",
    "        elif pos<=1:\n",
    "            self.add(node)\n",
    "        elif pos > self.length:\n",
    "            self.appendnode(node)\n",
    "        else:\n",
    "            p = self._head\n",
    "            count = 1\n",
    "            # 移动到指定位置\n",
    "            while count < pos - 1:\n",
    "                p = p.next\n",
    "                count += 1\n",
    "            node.prior = p\n",
    "            node.next = p.next\n",
    "            p.next.prior = node\n",
    "            p.next = node\n",
    "            self.length += 1\n",
    "\n",
    "\n",
    "# 单链表插入数据示例\n",
    "if __name__ == '__main__':\n",
    "    # 实例化一个单链表对象\n",
    "    s = DLinkList()\n",
    "    print('''\n",
    "        0、结束所有操作\n",
    "        1、从尾部插入数值建立单链表\n",
    "        2、从头部插入数值建立单链表\n",
    "        3、在双向链表制定位置插入数据\n",
    "    ''')\n",
    "    while True:\n",
    "        number = eval(input(\"--请输入0、1、2或者3进行下一步操作--：\"))\n",
    "        if (number == 1):\n",
    "            print(\"目前的链表状态：\")\n",
    "            s.travel()\n",
    "            print(\"正在尾部插入数值：\")\n",
    "            p = DoubleNode(eval(input(\"输入要插入的值：\")))\n",
    "            s.appendnode(p)\n",
    "            print(\"操作后链表的状态：\")\n",
    "            s.travel()\n",
    "        elif (number == 2):\n",
    "            print(\"目前的链表状态：\")\n",
    "            s.travel()\n",
    "            print(\"正在头部插入数值：\")\n",
    "            p = DoubleNode(eval(input(\"输入要插入的值：\")))\n",
    "            s.add(p)\n",
    "            print(\"操作后链表的状态：\")\n",
    "            s.travel()\n",
    "        elif (number == 3):\n",
    "            print(\"目前的链表状态：\")\n",
    "            s.travel()\n",
    "            print(\"正在按指定位置插入数值到链表中：\")\n",
    "            p = DoubleNode(eval(input(\"输入要插入的值：\")))\n",
    "            position = eval(input(\"输入要插入的位置：\"))\n",
    "            s.insert(p,position)\n",
    "            print(\"操作后链表的状态：\")\n",
    "            s.travel()\n",
    "        elif (number == 0):\n",
    "            break"
   ]
  },
  {
   "cell_type": "markdown",
   "id": "34c3da40-e1d9-4615-b5c9-bac693f2456a",
   "metadata": {},
   "source": [
    "### 2.3.4 双向链表 -- 删除运算"
   ]
  },
  {
   "cell_type": "code",
   "execution_count": 1,
   "id": "7f56c1a1-2264-4a76-ab84-2568d46d1ab9",
   "metadata": {},
   "outputs": [
    {
     "name": "stdout",
     "output_type": "stream",
     "text": [
      "\n",
      "        0、结束所有操作\n",
      "        1、从尾部插入数值建立单链表\n",
      "        2、从头部插入数值建立单链表\n",
      "        4、在双向链表制定位置插入数据\n",
      "    \n"
     ]
    },
    {
     "name": "stdin",
     "output_type": "stream",
     "text": [
      "--请输入0、1、2或者4进行下一步操作--： 1\n"
     ]
    },
    {
     "name": "stdout",
     "output_type": "stream",
     "text": [
      "目前的链表状态：\n",
      " \n",
      "正在尾部插入数值：\n"
     ]
    },
    {
     "name": "stdin",
     "output_type": "stream",
     "text": [
      "输入要插入的值： 23\n"
     ]
    },
    {
     "name": "stdout",
     "output_type": "stream",
     "text": [
      "操作后链表的状态：\n",
      "23-> <-  \n"
     ]
    },
    {
     "name": "stdin",
     "output_type": "stream",
     "text": [
      "--请输入0、1、2或者4进行下一步操作--： 1\n"
     ]
    },
    {
     "name": "stdout",
     "output_type": "stream",
     "text": [
      "目前的链表状态：\n",
      "23-> <-  \n",
      "正在尾部插入数值：\n"
     ]
    },
    {
     "name": "stdin",
     "output_type": "stream",
     "text": [
      "输入要插入的值： 34\n"
     ]
    },
    {
     "name": "stdout",
     "output_type": "stream",
     "text": [
      "操作后链表的状态：\n",
      "23-> <- 34-> <-  \n"
     ]
    },
    {
     "name": "stdin",
     "output_type": "stream",
     "text": [
      "--请输入0、1、2或者4进行下一步操作--： 1\n"
     ]
    },
    {
     "name": "stdout",
     "output_type": "stream",
     "text": [
      "目前的链表状态：\n",
      "23-> <- 34-> <-  \n",
      "正在尾部插入数值：\n"
     ]
    },
    {
     "name": "stdin",
     "output_type": "stream",
     "text": [
      "输入要插入的值： 56\n"
     ]
    },
    {
     "name": "stdout",
     "output_type": "stream",
     "text": [
      "操作后链表的状态：\n",
      "23-> <- 34-> <- 56-> <-  \n"
     ]
    },
    {
     "name": "stdin",
     "output_type": "stream",
     "text": [
      "--请输入0、1、2或者4进行下一步操作--： 1\n"
     ]
    },
    {
     "name": "stdout",
     "output_type": "stream",
     "text": [
      "目前的链表状态：\n",
      "23-> <- 34-> <- 56-> <-  \n",
      "正在尾部插入数值：\n"
     ]
    },
    {
     "name": "stdin",
     "output_type": "stream",
     "text": [
      "输入要插入的值： 67\n"
     ]
    },
    {
     "name": "stdout",
     "output_type": "stream",
     "text": [
      "操作后链表的状态：\n",
      "23-> <- 34-> <- 56-> <- 67-> <-  \n"
     ]
    },
    {
     "name": "stdin",
     "output_type": "stream",
     "text": [
      "--请输入0、1、2或者4进行下一步操作--： 3\n",
      "--请输入0、1、2或者4进行下一步操作--： 4\n"
     ]
    },
    {
     "name": "stdout",
     "output_type": "stream",
     "text": [
      "目前的链表状态：\n",
      "23-> <- 34-> <- 56-> <- 67-> <-  \n",
      "正在删除：\n"
     ]
    },
    {
     "name": "stdin",
     "output_type": "stream",
     "text": [
      "输入要删除的值： 34\n"
     ]
    },
    {
     "name": "stdout",
     "output_type": "stream",
     "text": [
      "操作后链表的状态：\n",
      "23-> <- 56-> <- 67-> <-  \n"
     ]
    },
    {
     "name": "stdin",
     "output_type": "stream",
     "text": [
      "--请输入0、1、2或者4进行下一步操作--： 4\n"
     ]
    },
    {
     "name": "stdout",
     "output_type": "stream",
     "text": [
      "目前的链表状态：\n",
      "23-> <- 56-> <- 67-> <-  \n",
      "正在删除：\n"
     ]
    },
    {
     "name": "stdin",
     "output_type": "stream",
     "text": [
      "输入要删除的值： 23\n"
     ]
    },
    {
     "name": "stdout",
     "output_type": "stream",
     "text": [
      "操作后链表的状态：\n",
      "56-> <- 67-> <-  \n"
     ]
    },
    {
     "name": "stdin",
     "output_type": "stream",
     "text": [
      "--请输入0、1、2或者4进行下一步操作--： 4\n"
     ]
    },
    {
     "name": "stdout",
     "output_type": "stream",
     "text": [
      "目前的链表状态：\n",
      "56-> <- 67-> <-  \n",
      "正在删除：\n"
     ]
    },
    {
     "name": "stdin",
     "output_type": "stream",
     "text": [
      "输入要删除的值： 56\n"
     ]
    },
    {
     "name": "stdout",
     "output_type": "stream",
     "text": [
      "操作后链表的状态：\n",
      "67-> <-  \n"
     ]
    },
    {
     "name": "stdin",
     "output_type": "stream",
     "text": [
      "--请输入0、1、2或者4进行下一步操作--： 0\n"
     ]
    }
   ],
   "source": [
    "# 建立双向节点类\n",
    "class DoubleNode(object):\n",
    "    def __init__(self,data):\n",
    "        self.data = data\n",
    "        self.next = None\n",
    "        self.prior = None\n",
    "\n",
    "# 创建双向链表类\n",
    "class DLinkList(object):\n",
    "    def __init__(self):\n",
    "        self._head = None\n",
    "        self.length = 0\n",
    "\n",
    "    # 判断链表是否为空\n",
    "    def is_empty(self):\n",
    "        if self._head == None:\n",
    "            return True\n",
    "        else:\n",
    "            return False\n",
    "\n",
    "    # 输出链表当前状态\n",
    "    def travel(self):\n",
    "        cur = self._head\n",
    "        while cur != None:\n",
    "            print(\"%s-> <-\"% cur.data, end = \" \")\n",
    "            cur = cur.next\n",
    "        print(\" \")\n",
    "    \n",
    "    # 在链表头插入数据p\n",
    "    def add(self,node):\n",
    "        if self.is_empty():\n",
    "            self._head = node\n",
    "        else:\n",
    "            # 将node的next指向_head的头节点\n",
    "            node.next = self._head\n",
    "            # 将_head的头节点的prior指向node\n",
    "            self._head.prior = node\n",
    "            # 将_head指向node\n",
    "            self._head = node\n",
    "        self.length += 1\n",
    "\n",
    "    # 在链表尾加入数据p\n",
    "    def appendnode(self,node):\n",
    "        if self.is_empty():\n",
    "            self._head = node\n",
    "        else:  # 移动到最后\n",
    "            cur = self._head\n",
    "            while cur.next != None:\n",
    "                cur = cur.next\n",
    "            # 将尾结点cur的next指向node\n",
    "            cur.next = node\n",
    "            # 将node的prior指向cur\n",
    "            node.prior = cur\n",
    "        self.length +=1\n",
    "\n",
    "    # 删除某个数据\n",
    "    def delete(self,data):\n",
    "        # 在指定位置添加节点\n",
    "        if self.is_empty():\n",
    "            print(\"链表为空，不能删除数据\")\n",
    "            return\n",
    "        else:\n",
    "            p = self._head\n",
    "            # 如果首节点的元素即是要删除的元素\n",
    "            if p.data == data:\n",
    "                # 如果链表只有这一个节点\n",
    "                if p.next == None:\n",
    "                    self._head = None\n",
    "                else: \n",
    "                    #p.next.prior = self._head\n",
    "                    p.next.prior = None\n",
    "                    self._head = p.next\n",
    "                self.length -=1\n",
    "                return\n",
    "            while p != None:  \n",
    "                if p.data == data and p.next != None:\n",
    "                    p.prior.next = p.next\n",
    "                    p.next.prior = p.prior\n",
    "                    self.length -=1\n",
    "                    break\n",
    "                elif p.data == data and p.next == None:\n",
    "                    p.prior.next = None\n",
    "                p = p.next\n",
    "            if p == None:\n",
    "                print(\"链表中没有该元素\")\n",
    "                \n",
    "\n",
    "# 单链表删除数据示例\n",
    "if __name__ == '__main__':\n",
    "    # 实例化一个单链表对象\n",
    "    s = DLinkList()\n",
    "    print('''\n",
    "        0、结束所有操作\n",
    "        1、从尾部插入数值建立单链表\n",
    "        2、从头部插入数值建立单链表\n",
    "        4、在双向链表制定位置插入数据\n",
    "    ''')\n",
    "    while True:\n",
    "        number = eval(input(\"--请输入0、1、2或者4进行下一步操作--：\"))\n",
    "        if (number == 1):\n",
    "            print(\"目前的链表状态：\")\n",
    "            s.travel()\n",
    "            print(\"正在尾部插入数值：\")\n",
    "            p = DoubleNode(eval(input(\"输入要插入的值：\")))\n",
    "            s.appendnode(p)\n",
    "            print(\"操作后链表的状态：\")\n",
    "            s.travel()\n",
    "        elif (number == 2):\n",
    "            print(\"目前的链表状态：\")\n",
    "            s.travel()\n",
    "            print(\"正在头部插入数值：\")\n",
    "            p = DoubleNode(eval(input(\"输入要插入的值：\")))\n",
    "            s.add(p)\n",
    "            print(\"操作后链表的状态：\")\n",
    "            s.travel()\n",
    "        elif (number == 4):\n",
    "            print(\"目前的链表状态：\")\n",
    "            s.travel()\n",
    "            print(\"正在删除：\")\n",
    "            p = eval(input(\"输入要删除的值：\"))\n",
    "            s.delete(p)\n",
    "            print(\"操作后链表的状态：\")\n",
    "            s.travel()\n",
    "        elif (number == 0):\n",
    "            break"
   ]
  },
  {
   "cell_type": "markdown",
   "id": "92198613-2210-4f21-84a7-67ece10bc5fa",
   "metadata": {},
   "source": [
    "### 单链表应用举例\n",
    "* 多项式相加"
   ]
  },
  {
   "cell_type": "code",
   "execution_count": 1,
   "id": "fd0d5667-b0fa-4cfd-9066-fb1221626113",
   "metadata": {},
   "outputs": [
    {
     "name": "stdin",
     "output_type": "stream",
     "text": [
      "请输入第一个多项式系数 5\n",
      "请输入第一个多项式系数 0\n",
      "请输入第一个多项式系数 #\n",
      "请输入第二个多项式系数 -5\n",
      "请输入第二个多项式系数 1\n",
      "请输入第二个多项式系数 #\n"
     ]
    },
    {
     "name": "stdout",
     "output_type": "stream",
     "text": [
      "[5, 0]\n",
      "[-5, 1]\n",
      "原始多项式：\n",
      " A= 5X+ \n",
      "B= -5X+ 1\n",
      "\n",
      "多项式相加的结果：\n",
      " C= 5X+ 1\n",
      "\n",
      "\n"
     ]
    }
   ],
   "source": [
    "### 求两个多项式的和\n",
    "import sys\n",
    "class equation:\n",
    "    def __init__(self):\n",
    "        self.coef = 0\n",
    "        self.exp = 0\n",
    "        self.next = None\n",
    "        \n",
    "def create_link(data):\n",
    "    n = len(data)\n",
    "    for i in range(n):\n",
    "        newnode = equation()\n",
    "        if not newnode:\n",
    "            print(\"Error!!内存分配失败！！\")\n",
    "            sys.exit(0)\n",
    "        if i == 0:\n",
    "            newnode.coef = data[i]\n",
    "            newnode.exp = n-i-1\n",
    "            newnode.next = None\n",
    "            head = newnode\n",
    "            ptr = head\n",
    "        elif data[i] != 0:\n",
    "            newnode.coef = data[i]\n",
    "            newnode.exp = n-i-1\n",
    "            newnode.next = None\n",
    "            ptr.next = newnode\n",
    "            ptr = newnode\n",
    "    return head\n",
    "\n",
    "def print_link(head):\n",
    "    while head != None:\n",
    "        if head.exp == 1 and head.coef != 0:\n",
    "            print('%dX+'%(head.coef), end = ' ')\n",
    "        elif head.exp != 0 and head.coef != 0:\n",
    "            print('%dX^%d+'%(head.coef,head.exp),end = ' ')\n",
    "        elif head.exp == 0:\n",
    "            print('%d'%head.coef)\n",
    "        head = head.next\n",
    "    print()\n",
    "\n",
    "def sum_link(head1,head2):\n",
    "    pre = head1\n",
    "    qa = head1\n",
    "    qb = head2\n",
    "    while qa != None and qb != None:\n",
    "        if qa.exp == qb.exp:\n",
    "            sum = qa.coef + qb.coef\n",
    "            if sum:\n",
    "                qa.coef = sum\n",
    "                pre = qa\n",
    "            else:\n",
    "                pre.next = qa.next\n",
    "            qa = pre.next\n",
    "            qb = qb.next\n",
    "        elif qb.exp > qa.exp:\n",
    "            if qa == head1:\n",
    "                head1 = qb\n",
    "                pre = qb\n",
    "                qb = qb.next\n",
    "                pre.next = qa\n",
    "            elif qa != head1:\n",
    "                pre.next = qb\n",
    "                pre = qb\n",
    "                qb = qb.next\n",
    "                pre.next = qa\n",
    "        elif qa.exp > qb.exp:\n",
    "            pre = qa\n",
    "            qa = qa.next\n",
    "    if qb != None:\n",
    "        pre.next = qb\n",
    "    return print_link(head1)\n",
    "\n",
    "if __name__ == '__main__':\n",
    "    data1=[]\n",
    "    data2=[]\n",
    "    coef1 = input(\"请输入第一个多项式系数\")\n",
    "    while coef1 != '#':\n",
    "        data1.append(int(coef1))\n",
    "        coef1 = input(\"请输入第一个多项式系数\")\n",
    "    coef2 = input(\"请输入第二个多项式系数\")\n",
    "    while coef2 != '#':\n",
    "        data2.append(int(coef2))\n",
    "        coef2 = input(\"请输入第二个多项式系数\")\n",
    "    print(data1)\n",
    "    print(data2)\n",
    "    print('原始多项式：\\n A=',end = ' ')\n",
    "    a = head1 = create_link(data1)\n",
    "    b = head2 = create_link(data2)\n",
    "    print_link(a)\n",
    "    print('B=',end = ' ')\n",
    "    print_link(b)\n",
    "    print('多项式相加的结果：\\n C=',end = ' ')\n",
    "    print_link(sum_link(a,b))"
   ]
  },
  {
   "cell_type": "code",
   "execution_count": 1,
   "id": "32db88b8-58f6-4a68-91d9-8ba673fec0f7",
   "metadata": {},
   "outputs": [
    {
     "name": "stdout",
     "output_type": "stream",
     "text": [
      "Requirement already satisfied: jupyter_contrib_nbextensions in c:\\users\\pc\\appdata\\local\\programs\\python\\python312\\lib\\site-packages (0.7.0)\n",
      "Requirement already satisfied: ipython-genutils in c:\\users\\pc\\appdata\\local\\programs\\python\\python312\\lib\\site-packages (from jupyter_contrib_nbextensions) (0.2.0)\n",
      "Requirement already satisfied: jupyter-contrib-core>=0.3.3 in c:\\users\\pc\\appdata\\local\\programs\\python\\python312\\lib\\site-packages (from jupyter_contrib_nbextensions) (0.4.2)\n",
      "Requirement already satisfied: jupyter-core in c:\\users\\pc\\appdata\\local\\programs\\python\\python312\\lib\\site-packages (from jupyter_contrib_nbextensions) (5.6.0)\n",
      "Requirement already satisfied: jupyter-highlight-selected-word>=0.1.1 in c:\\users\\pc\\appdata\\local\\programs\\python\\python312\\lib\\site-packages (from jupyter_contrib_nbextensions) (0.2.0)\n",
      "Requirement already satisfied: jupyter-nbextensions-configurator>=0.4.0 in c:\\users\\pc\\appdata\\local\\programs\\python\\python312\\lib\\site-packages (from jupyter_contrib_nbextensions) (0.6.3)\n",
      "Requirement already satisfied: nbconvert>=6.0 in c:\\users\\pc\\appdata\\local\\programs\\python\\python312\\lib\\site-packages (from jupyter_contrib_nbextensions) (7.13.1)\n",
      "Requirement already satisfied: notebook>=6.0 in c:\\users\\pc\\appdata\\local\\programs\\python\\python312\\lib\\site-packages (from jupyter_contrib_nbextensions) (7.0.6)\n",
      "Requirement already satisfied: tornado in c:\\users\\pc\\appdata\\local\\programs\\python\\python312\\lib\\site-packages (from jupyter_contrib_nbextensions) (6.4)\n",
      "Requirement already satisfied: traitlets>=4.1 in c:\\users\\pc\\appdata\\local\\programs\\python\\python312\\lib\\site-packages (from jupyter_contrib_nbextensions) (5.14.0)\n",
      "Requirement already satisfied: lxml in c:\\users\\pc\\appdata\\local\\programs\\python\\python312\\lib\\site-packages (from jupyter_contrib_nbextensions) (5.0.0)\n",
      "Requirement already satisfied: setuptools in c:\\users\\pc\\appdata\\local\\programs\\python\\python312\\lib\\site-packages (from jupyter-contrib-core>=0.3.3->jupyter_contrib_nbextensions) (69.0.3)\n",
      "Requirement already satisfied: pyyaml in c:\\users\\pc\\appdata\\local\\programs\\python\\python312\\lib\\site-packages (from jupyter-nbextensions-configurator>=0.4.0->jupyter_contrib_nbextensions) (6.0.1)\n",
      "Requirement already satisfied: beautifulsoup4 in c:\\users\\pc\\appdata\\local\\programs\\python\\python312\\lib\\site-packages (from nbconvert>=6.0->jupyter_contrib_nbextensions) (4.12.2)\n",
      "Requirement already satisfied: bleach!=5.0.0 in c:\\users\\pc\\appdata\\local\\programs\\python\\python312\\lib\\site-packages (from nbconvert>=6.0->jupyter_contrib_nbextensions) (6.1.0)\n",
      "Requirement already satisfied: defusedxml in c:\\users\\pc\\appdata\\local\\programs\\python\\python312\\lib\\site-packages (from nbconvert>=6.0->jupyter_contrib_nbextensions) (0.7.1)\n",
      "Requirement already satisfied: jinja2>=3.0 in c:\\users\\pc\\appdata\\local\\programs\\python\\python312\\lib\\site-packages (from nbconvert>=6.0->jupyter_contrib_nbextensions) (3.1.2)\n",
      "Requirement already satisfied: jupyterlab-pygments in c:\\users\\pc\\appdata\\local\\programs\\python\\python312\\lib\\site-packages (from nbconvert>=6.0->jupyter_contrib_nbextensions) (0.3.0)\n",
      "Requirement already satisfied: markupsafe>=2.0 in c:\\users\\pc\\appdata\\local\\programs\\python\\python312\\lib\\site-packages (from nbconvert>=6.0->jupyter_contrib_nbextensions) (2.1.3)\n",
      "Requirement already satisfied: mistune<4,>=2.0.3 in c:\\users\\pc\\appdata\\local\\programs\\python\\python312\\lib\\site-packages (from nbconvert>=6.0->jupyter_contrib_nbextensions) (3.0.2)\n",
      "Requirement already satisfied: nbclient>=0.5.0 in c:\\users\\pc\\appdata\\local\\programs\\python\\python312\\lib\\site-packages (from nbconvert>=6.0->jupyter_contrib_nbextensions) (0.9.0)\n",
      "Requirement already satisfied: nbformat>=5.7 in c:\\users\\pc\\appdata\\local\\programs\\python\\python312\\lib\\site-packages (from nbconvert>=6.0->jupyter_contrib_nbextensions) (5.9.2)\n",
      "Requirement already satisfied: packaging in c:\\users\\pc\\appdata\\local\\programs\\python\\python312\\lib\\site-packages (from nbconvert>=6.0->jupyter_contrib_nbextensions) (23.2)\n",
      "Requirement already satisfied: pandocfilters>=1.4.1 in c:\\users\\pc\\appdata\\local\\programs\\python\\python312\\lib\\site-packages (from nbconvert>=6.0->jupyter_contrib_nbextensions) (1.5.0)\n",
      "Requirement already satisfied: pygments>=2.4.1 in c:\\users\\pc\\appdata\\local\\programs\\python\\python312\\lib\\site-packages (from nbconvert>=6.0->jupyter_contrib_nbextensions) (2.17.2)\n",
      "Requirement already satisfied: tinycss2 in c:\\users\\pc\\appdata\\local\\programs\\python\\python312\\lib\\site-packages (from nbconvert>=6.0->jupyter_contrib_nbextensions) (1.2.1)\n",
      "Requirement already satisfied: platformdirs>=2.5 in c:\\users\\pc\\appdata\\local\\programs\\python\\python312\\lib\\site-packages (from jupyter-core->jupyter_contrib_nbextensions) (4.1.0)\n",
      "Requirement already satisfied: pywin32>=300 in c:\\users\\pc\\appdata\\local\\programs\\python\\python312\\lib\\site-packages (from jupyter-core->jupyter_contrib_nbextensions) (306)\n",
      "Requirement already satisfied: jupyter-server<3,>=2.4.0 in c:\\users\\pc\\appdata\\local\\programs\\python\\python312\\lib\\site-packages (from notebook>=6.0->jupyter_contrib_nbextensions) (2.12.1)\n",
      "Requirement already satisfied: jupyterlab-server<3,>=2.22.1 in c:\\users\\pc\\appdata\\local\\programs\\python\\python312\\lib\\site-packages (from notebook>=6.0->jupyter_contrib_nbextensions) (2.25.2)\n",
      "Requirement already satisfied: jupyterlab<5,>=4.0.2 in c:\\users\\pc\\appdata\\local\\programs\\python\\python312\\lib\\site-packages (from notebook>=6.0->jupyter_contrib_nbextensions) (4.0.9)\n",
      "Requirement already satisfied: notebook-shim<0.3,>=0.2 in c:\\users\\pc\\appdata\\local\\programs\\python\\python312\\lib\\site-packages (from notebook>=6.0->jupyter_contrib_nbextensions) (0.2.3)\n",
      "Requirement already satisfied: six>=1.9.0 in c:\\users\\pc\\appdata\\local\\programs\\python\\python312\\lib\\site-packages (from bleach!=5.0.0->nbconvert>=6.0->jupyter_contrib_nbextensions) (1.16.0)\n",
      "Requirement already satisfied: webencodings in c:\\users\\pc\\appdata\\local\\programs\\python\\python312\\lib\\site-packages (from bleach!=5.0.0->nbconvert>=6.0->jupyter_contrib_nbextensions) (0.5.1)\n",
      "Requirement already satisfied: anyio>=3.1.0 in c:\\users\\pc\\appdata\\local\\programs\\python\\python312\\lib\\site-packages (from jupyter-server<3,>=2.4.0->notebook>=6.0->jupyter_contrib_nbextensions) (4.2.0)\n",
      "Requirement already satisfied: argon2-cffi in c:\\users\\pc\\appdata\\local\\programs\\python\\python312\\lib\\site-packages (from jupyter-server<3,>=2.4.0->notebook>=6.0->jupyter_contrib_nbextensions) (23.1.0)\n",
      "Requirement already satisfied: jupyter-client>=7.4.4 in c:\\users\\pc\\appdata\\local\\programs\\python\\python312\\lib\\site-packages (from jupyter-server<3,>=2.4.0->notebook>=6.0->jupyter_contrib_nbextensions) (8.6.0)\n",
      "Requirement already satisfied: jupyter-events>=0.9.0 in c:\\users\\pc\\appdata\\local\\programs\\python\\python312\\lib\\site-packages (from jupyter-server<3,>=2.4.0->notebook>=6.0->jupyter_contrib_nbextensions) (0.9.0)\n",
      "Requirement already satisfied: jupyter-server-terminals in c:\\users\\pc\\appdata\\local\\programs\\python\\python312\\lib\\site-packages (from jupyter-server<3,>=2.4.0->notebook>=6.0->jupyter_contrib_nbextensions) (0.5.1)\n",
      "Requirement already satisfied: overrides in c:\\users\\pc\\appdata\\local\\programs\\python\\python312\\lib\\site-packages (from jupyter-server<3,>=2.4.0->notebook>=6.0->jupyter_contrib_nbextensions) (7.4.0)\n",
      "Requirement already satisfied: prometheus-client in c:\\users\\pc\\appdata\\local\\programs\\python\\python312\\lib\\site-packages (from jupyter-server<3,>=2.4.0->notebook>=6.0->jupyter_contrib_nbextensions) (0.19.0)\n",
      "Requirement already satisfied: pywinpty in c:\\users\\pc\\appdata\\local\\programs\\python\\python312\\lib\\site-packages (from jupyter-server<3,>=2.4.0->notebook>=6.0->jupyter_contrib_nbextensions) (2.0.12)\n",
      "Requirement already satisfied: pyzmq>=24 in c:\\users\\pc\\appdata\\local\\programs\\python\\python312\\lib\\site-packages (from jupyter-server<3,>=2.4.0->notebook>=6.0->jupyter_contrib_nbextensions) (25.1.2)\n",
      "Requirement already satisfied: send2trash>=1.8.2 in c:\\users\\pc\\appdata\\local\\programs\\python\\python312\\lib\\site-packages (from jupyter-server<3,>=2.4.0->notebook>=6.0->jupyter_contrib_nbextensions) (1.8.2)\n",
      "Requirement already satisfied: terminado>=0.8.3 in c:\\users\\pc\\appdata\\local\\programs\\python\\python312\\lib\\site-packages (from jupyter-server<3,>=2.4.0->notebook>=6.0->jupyter_contrib_nbextensions) (0.18.0)\n",
      "Requirement already satisfied: websocket-client in c:\\users\\pc\\appdata\\local\\programs\\python\\python312\\lib\\site-packages (from jupyter-server<3,>=2.4.0->notebook>=6.0->jupyter_contrib_nbextensions) (1.7.0)\n",
      "Requirement already satisfied: async-lru>=1.0.0 in c:\\users\\pc\\appdata\\local\\programs\\python\\python312\\lib\\site-packages (from jupyterlab<5,>=4.0.2->notebook>=6.0->jupyter_contrib_nbextensions) (2.0.4)\n",
      "Requirement already satisfied: ipykernel in c:\\users\\pc\\appdata\\local\\programs\\python\\python312\\lib\\site-packages (from jupyterlab<5,>=4.0.2->notebook>=6.0->jupyter_contrib_nbextensions) (6.28.0)\n",
      "Requirement already satisfied: jupyter-lsp>=2.0.0 in c:\\users\\pc\\appdata\\local\\programs\\python\\python312\\lib\\site-packages (from jupyterlab<5,>=4.0.2->notebook>=6.0->jupyter_contrib_nbextensions) (2.2.1)\n",
      "Requirement already satisfied: babel>=2.10 in c:\\users\\pc\\appdata\\local\\programs\\python\\python312\\lib\\site-packages (from jupyterlab-server<3,>=2.22.1->notebook>=6.0->jupyter_contrib_nbextensions) (2.14.0)\n",
      "Requirement already satisfied: json5>=0.9.0 in c:\\users\\pc\\appdata\\local\\programs\\python\\python312\\lib\\site-packages (from jupyterlab-server<3,>=2.22.1->notebook>=6.0->jupyter_contrib_nbextensions) (0.9.14)\n",
      "Requirement already satisfied: jsonschema>=4.18.0 in c:\\users\\pc\\appdata\\local\\programs\\python\\python312\\lib\\site-packages (from jupyterlab-server<3,>=2.22.1->notebook>=6.0->jupyter_contrib_nbextensions) (4.20.0)\n",
      "Requirement already satisfied: requests>=2.31 in c:\\users\\pc\\appdata\\local\\programs\\python\\python312\\lib\\site-packages (from jupyterlab-server<3,>=2.22.1->notebook>=6.0->jupyter_contrib_nbextensions) (2.31.0)\n",
      "Requirement already satisfied: fastjsonschema in c:\\users\\pc\\appdata\\local\\programs\\python\\python312\\lib\\site-packages (from nbformat>=5.7->nbconvert>=6.0->jupyter_contrib_nbextensions) (2.19.0)\n",
      "Requirement already satisfied: soupsieve>1.2 in c:\\users\\pc\\appdata\\local\\programs\\python\\python312\\lib\\site-packages (from beautifulsoup4->nbconvert>=6.0->jupyter_contrib_nbextensions) (2.5)\n",
      "Requirement already satisfied: idna>=2.8 in c:\\users\\pc\\appdata\\local\\programs\\python\\python312\\lib\\site-packages (from anyio>=3.1.0->jupyter-server<3,>=2.4.0->notebook>=6.0->jupyter_contrib_nbextensions) (3.6)\n",
      "Requirement already satisfied: sniffio>=1.1 in c:\\users\\pc\\appdata\\local\\programs\\python\\python312\\lib\\site-packages (from anyio>=3.1.0->jupyter-server<3,>=2.4.0->notebook>=6.0->jupyter_contrib_nbextensions) (1.3.0)\n",
      "Requirement already satisfied: attrs>=22.2.0 in c:\\users\\pc\\appdata\\local\\programs\\python\\python312\\lib\\site-packages (from jsonschema>=4.18.0->jupyterlab-server<3,>=2.22.1->notebook>=6.0->jupyter_contrib_nbextensions) (23.1.0)\n",
      "Requirement already satisfied: jsonschema-specifications>=2023.03.6 in c:\\users\\pc\\appdata\\local\\programs\\python\\python312\\lib\\site-packages (from jsonschema>=4.18.0->jupyterlab-server<3,>=2.22.1->notebook>=6.0->jupyter_contrib_nbextensions) (2023.12.1)\n",
      "Requirement already satisfied: referencing>=0.28.4 in c:\\users\\pc\\appdata\\local\\programs\\python\\python312\\lib\\site-packages (from jsonschema>=4.18.0->jupyterlab-server<3,>=2.22.1->notebook>=6.0->jupyter_contrib_nbextensions) (0.32.0)\n",
      "Requirement already satisfied: rpds-py>=0.7.1 in c:\\users\\pc\\appdata\\local\\programs\\python\\python312\\lib\\site-packages (from jsonschema>=4.18.0->jupyterlab-server<3,>=2.22.1->notebook>=6.0->jupyter_contrib_nbextensions) (0.15.2)\n",
      "Requirement already satisfied: python-dateutil>=2.8.2 in c:\\users\\pc\\appdata\\local\\programs\\python\\python312\\lib\\site-packages (from jupyter-client>=7.4.4->jupyter-server<3,>=2.4.0->notebook>=6.0->jupyter_contrib_nbextensions) (2.8.2)\n",
      "Requirement already satisfied: python-json-logger>=2.0.4 in c:\\users\\pc\\appdata\\local\\programs\\python\\python312\\lib\\site-packages (from jupyter-events>=0.9.0->jupyter-server<3,>=2.4.0->notebook>=6.0->jupyter_contrib_nbextensions) (2.0.7)\n",
      "Requirement already satisfied: rfc3339-validator in c:\\users\\pc\\appdata\\local\\programs\\python\\python312\\lib\\site-packages (from jupyter-events>=0.9.0->jupyter-server<3,>=2.4.0->notebook>=6.0->jupyter_contrib_nbextensions) (0.1.4)\n",
      "Requirement already satisfied: rfc3986-validator>=0.1.1 in c:\\users\\pc\\appdata\\local\\programs\\python\\python312\\lib\\site-packages (from jupyter-events>=0.9.0->jupyter-server<3,>=2.4.0->notebook>=6.0->jupyter_contrib_nbextensions) (0.1.1)\n",
      "Requirement already satisfied: charset-normalizer<4,>=2 in c:\\users\\pc\\appdata\\local\\programs\\python\\python312\\lib\\site-packages (from requests>=2.31->jupyterlab-server<3,>=2.22.1->notebook>=6.0->jupyter_contrib_nbextensions) (3.3.2)\n",
      "Requirement already satisfied: urllib3<3,>=1.21.1 in c:\\users\\pc\\appdata\\local\\programs\\python\\python312\\lib\\site-packages (from requests>=2.31->jupyterlab-server<3,>=2.22.1->notebook>=6.0->jupyter_contrib_nbextensions) (2.1.0)\n",
      "Requirement already satisfied: certifi>=2017.4.17 in c:\\users\\pc\\appdata\\local\\programs\\python\\python312\\lib\\site-packages (from requests>=2.31->jupyterlab-server<3,>=2.22.1->notebook>=6.0->jupyter_contrib_nbextensions) (2023.11.17)\n",
      "Requirement already satisfied: argon2-cffi-bindings in c:\\users\\pc\\appdata\\local\\programs\\python\\python312\\lib\\site-packages (from argon2-cffi->jupyter-server<3,>=2.4.0->notebook>=6.0->jupyter_contrib_nbextensions) (21.2.0)\n",
      "Requirement already satisfied: comm>=0.1.1 in c:\\users\\pc\\appdata\\local\\programs\\python\\python312\\lib\\site-packages (from ipykernel->jupyterlab<5,>=4.0.2->notebook>=6.0->jupyter_contrib_nbextensions) (0.2.0)\n",
      "Requirement already satisfied: debugpy>=1.6.5 in c:\\users\\pc\\appdata\\local\\programs\\python\\python312\\lib\\site-packages (from ipykernel->jupyterlab<5,>=4.0.2->notebook>=6.0->jupyter_contrib_nbextensions) (1.8.0)\n",
      "Requirement already satisfied: ipython>=7.23.1 in c:\\users\\pc\\appdata\\local\\programs\\python\\python312\\lib\\site-packages (from ipykernel->jupyterlab<5,>=4.0.2->notebook>=6.0->jupyter_contrib_nbextensions) (8.19.0)\n",
      "Requirement already satisfied: matplotlib-inline>=0.1 in c:\\users\\pc\\appdata\\local\\programs\\python\\python312\\lib\\site-packages (from ipykernel->jupyterlab<5,>=4.0.2->notebook>=6.0->jupyter_contrib_nbextensions) (0.1.6)\n",
      "Requirement already satisfied: nest-asyncio in c:\\users\\pc\\appdata\\local\\programs\\python\\python312\\lib\\site-packages (from ipykernel->jupyterlab<5,>=4.0.2->notebook>=6.0->jupyter_contrib_nbextensions) (1.5.8)\n",
      "Requirement already satisfied: psutil in c:\\users\\pc\\appdata\\local\\programs\\python\\python312\\lib\\site-packages (from ipykernel->jupyterlab<5,>=4.0.2->notebook>=6.0->jupyter_contrib_nbextensions) (5.9.7)\n",
      "Requirement already satisfied: decorator in c:\\users\\pc\\appdata\\local\\programs\\python\\python312\\lib\\site-packages (from ipython>=7.23.1->ipykernel->jupyterlab<5,>=4.0.2->notebook>=6.0->jupyter_contrib_nbextensions) (5.1.1)\n",
      "Requirement already satisfied: jedi>=0.16 in c:\\users\\pc\\appdata\\local\\programs\\python\\python312\\lib\\site-packages (from ipython>=7.23.1->ipykernel->jupyterlab<5,>=4.0.2->notebook>=6.0->jupyter_contrib_nbextensions) (0.19.1)\n",
      "Requirement already satisfied: prompt-toolkit<3.1.0,>=3.0.41 in c:\\users\\pc\\appdata\\local\\programs\\python\\python312\\lib\\site-packages (from ipython>=7.23.1->ipykernel->jupyterlab<5,>=4.0.2->notebook>=6.0->jupyter_contrib_nbextensions) (3.0.43)\n",
      "Requirement already satisfied: stack-data in c:\\users\\pc\\appdata\\local\\programs\\python\\python312\\lib\\site-packages (from ipython>=7.23.1->ipykernel->jupyterlab<5,>=4.0.2->notebook>=6.0->jupyter_contrib_nbextensions) (0.6.3)\n",
      "Requirement already satisfied: colorama in c:\\users\\pc\\appdata\\local\\programs\\python\\python312\\lib\\site-packages (from ipython>=7.23.1->ipykernel->jupyterlab<5,>=4.0.2->notebook>=6.0->jupyter_contrib_nbextensions) (0.4.6)\n",
      "Requirement already satisfied: fqdn in c:\\users\\pc\\appdata\\local\\programs\\python\\python312\\lib\\site-packages (from jsonschema[format-nongpl]>=4.18.0->jupyter-events>=0.9.0->jupyter-server<3,>=2.4.0->notebook>=6.0->jupyter_contrib_nbextensions) (1.5.1)\n",
      "Requirement already satisfied: isoduration in c:\\users\\pc\\appdata\\local\\programs\\python\\python312\\lib\\site-packages (from jsonschema[format-nongpl]>=4.18.0->jupyter-events>=0.9.0->jupyter-server<3,>=2.4.0->notebook>=6.0->jupyter_contrib_nbextensions) (20.11.0)\n",
      "Requirement already satisfied: jsonpointer>1.13 in c:\\users\\pc\\appdata\\local\\programs\\python\\python312\\lib\\site-packages (from jsonschema[format-nongpl]>=4.18.0->jupyter-events>=0.9.0->jupyter-server<3,>=2.4.0->notebook>=6.0->jupyter_contrib_nbextensions) (2.4)\n",
      "Requirement already satisfied: uri-template in c:\\users\\pc\\appdata\\local\\programs\\python\\python312\\lib\\site-packages (from jsonschema[format-nongpl]>=4.18.0->jupyter-events>=0.9.0->jupyter-server<3,>=2.4.0->notebook>=6.0->jupyter_contrib_nbextensions) (1.3.0)\n",
      "Requirement already satisfied: webcolors>=1.11 in c:\\users\\pc\\appdata\\local\\programs\\python\\python312\\lib\\site-packages (from jsonschema[format-nongpl]>=4.18.0->jupyter-events>=0.9.0->jupyter-server<3,>=2.4.0->notebook>=6.0->jupyter_contrib_nbextensions) (1.13)\n",
      "Requirement already satisfied: cffi>=1.0.1 in c:\\users\\pc\\appdata\\local\\programs\\python\\python312\\lib\\site-packages (from argon2-cffi-bindings->argon2-cffi->jupyter-server<3,>=2.4.0->notebook>=6.0->jupyter_contrib_nbextensions) (1.16.0)\n",
      "Requirement already satisfied: pycparser in c:\\users\\pc\\appdata\\local\\programs\\python\\python312\\lib\\site-packages (from cffi>=1.0.1->argon2-cffi-bindings->argon2-cffi->jupyter-server<3,>=2.4.0->notebook>=6.0->jupyter_contrib_nbextensions) (2.21)\n",
      "Requirement already satisfied: parso<0.9.0,>=0.8.3 in c:\\users\\pc\\appdata\\local\\programs\\python\\python312\\lib\\site-packages (from jedi>=0.16->ipython>=7.23.1->ipykernel->jupyterlab<5,>=4.0.2->notebook>=6.0->jupyter_contrib_nbextensions) (0.8.3)\n",
      "Requirement already satisfied: wcwidth in c:\\users\\pc\\appdata\\local\\programs\\python\\python312\\lib\\site-packages (from prompt-toolkit<3.1.0,>=3.0.41->ipython>=7.23.1->ipykernel->jupyterlab<5,>=4.0.2->notebook>=6.0->jupyter_contrib_nbextensions) (0.2.12)\n",
      "Requirement already satisfied: arrow>=0.15.0 in c:\\users\\pc\\appdata\\local\\programs\\python\\python312\\lib\\site-packages (from isoduration->jsonschema[format-nongpl]>=4.18.0->jupyter-events>=0.9.0->jupyter-server<3,>=2.4.0->notebook>=6.0->jupyter_contrib_nbextensions) (1.3.0)\n",
      "Requirement already satisfied: executing>=1.2.0 in c:\\users\\pc\\appdata\\local\\programs\\python\\python312\\lib\\site-packages (from stack-data->ipython>=7.23.1->ipykernel->jupyterlab<5,>=4.0.2->notebook>=6.0->jupyter_contrib_nbextensions) (2.0.1)\n",
      "Requirement already satisfied: asttokens>=2.1.0 in c:\\users\\pc\\appdata\\local\\programs\\python\\python312\\lib\\site-packages (from stack-data->ipython>=7.23.1->ipykernel->jupyterlab<5,>=4.0.2->notebook>=6.0->jupyter_contrib_nbextensions) (2.4.1)\n",
      "Requirement already satisfied: pure-eval in c:\\users\\pc\\appdata\\local\\programs\\python\\python312\\lib\\site-packages (from stack-data->ipython>=7.23.1->ipykernel->jupyterlab<5,>=4.0.2->notebook>=6.0->jupyter_contrib_nbextensions) (0.2.2)\n",
      "Requirement already satisfied: types-python-dateutil>=2.8.10 in c:\\users\\pc\\appdata\\local\\programs\\python\\python312\\lib\\site-packages (from arrow>=0.15.0->isoduration->jsonschema[format-nongpl]>=4.18.0->jupyter-events>=0.9.0->jupyter-server<3,>=2.4.0->notebook>=6.0->jupyter_contrib_nbextensions) (2.8.19.14)\n",
      "Note: you may need to restart the kernel to use updated packages.\n"
     ]
    },
    {
     "name": "stderr",
     "output_type": "stream",
     "text": [
      "\n",
      "[notice] A new release of pip is available: 23.3.2 -> 24.0\n",
      "[notice] To update, run: python.exe -m pip install --upgrade pip\n",
      "Traceback (most recent call last):\n",
      "  File \"<frozen runpy>\", line 198, in _run_module_as_main\n",
      "  File \"<frozen runpy>\", line 88, in _run_code\n",
      "  File \"C:\\Users\\pc\\AppData\\Local\\Programs\\Python\\Python312\\Scripts\\jupyter-contrib.EXE\\__main__.py\", line 7, in <module>\n",
      "  File \"C:\\Users\\pc\\AppData\\Local\\Programs\\Python\\Python312\\Lib\\site-packages\\jupyter_core\\application.py\", line 307, in launch_instance\n",
      "    loop.run_until_complete(coro)\n",
      "  File \"C:\\Users\\pc\\AppData\\Local\\Programs\\Python\\Python312\\Lib\\asyncio\\base_events.py\", line 684, in run_until_complete\n",
      "    return future.result()\n",
      "           ^^^^^^^^^^^^^^^\n",
      "  File \"C:\\Users\\pc\\AppData\\Local\\Programs\\Python\\Python312\\Lib\\site-packages\\jupyter_core\\application.py\", line 291, in _async_launch_instance\n",
      "    app = cls.instance(**kwargs)\n",
      "          ^^^^^^^^^^^^^^^^^^^^^^\n",
      "  File \"C:\\Users\\pc\\AppData\\Local\\Programs\\Python\\Python312\\Lib\\site-packages\\traitlets\\config\\configurable.py\", line 583, in instance\n",
      "    inst = cls(*args, **kwargs)\n",
      "           ^^^^^^^^^^^^^^^^^^^^\n",
      "  File \"C:\\Users\\pc\\AppData\\Local\\Programs\\Python\\Python312\\Lib\\site-packages\\jupyter_contrib_core\\application.py\", line 27, in __init__\n",
      "    self._refresh_subcommands()\n",
      "  File \"C:\\Users\\pc\\AppData\\Local\\Programs\\Python\\Python312\\Lib\\site-packages\\jupyter_contrib_core\\application.py\", line 43, in _refresh_subcommands\n",
      "    get_subcommands_dict = entrypoint.load()\n",
      "                           ^^^^^^^^^^^^^^^^^\n",
      "  File \"C:\\Users\\pc\\AppData\\Local\\Programs\\Python\\Python312\\Lib\\site-packages\\pkg_resources\\__init__.py\", line 2516, in load\n",
      "    return self.resolve()\n",
      "           ^^^^^^^^^^^^^^\n",
      "  File \"C:\\Users\\pc\\AppData\\Local\\Programs\\Python\\Python312\\Lib\\site-packages\\pkg_resources\\__init__.py\", line 2522, in resolve\n",
      "    module = __import__(self.module_name, fromlist=['__name__'], level=0)\n",
      "             ^^^^^^^^^^^^^^^^^^^^^^^^^^^^^^^^^^^^^^^^^^^^^^^^^^^^^^^^^^^^\n",
      "  File \"C:\\Users\\pc\\AppData\\Local\\Programs\\Python\\Python312\\Lib\\site-packages\\jupyter_contrib_nbextensions\\__init__.py\", line 5, in <module>\n",
      "    import jupyter_nbextensions_configurator\n",
      "  File \"C:\\Users\\pc\\AppData\\Local\\Programs\\Python\\Python312\\Lib\\site-packages\\jupyter_nbextensions_configurator\\__init__.py\", line 18, in <module>\n",
      "    from notebook.base.handlers import APIHandler, IPythonHandler\n",
      "ModuleNotFoundError: No module named 'notebook.base'\n"
     ]
    }
   ],
   "source": [
    "pip install jupyter_contrib_nbextensions && jupyter contrib nbextension install --user && jupyter nbextensions_configurator enable --user"
   ]
  },
  {
   "cell_type": "code",
   "execution_count": null,
   "id": "e4e20603-a76d-4b49-a762-233b89d5f548",
   "metadata": {},
   "outputs": [],
   "source": []
  },
  {
   "cell_type": "code",
   "execution_count": null,
   "id": "f1005904-30d4-45c4-807b-68d94a9f6f91",
   "metadata": {},
   "outputs": [],
   "source": []
  }
 ],
 "metadata": {
  "kernelspec": {
   "display_name": "Python 3 (ipykernel)",
   "language": "python",
   "name": "python3"
  },
  "language_info": {
   "codemirror_mode": {
    "name": "ipython",
    "version": 3
   },
   "file_extension": ".py",
   "mimetype": "text/x-python",
   "name": "python",
   "nbconvert_exporter": "python",
   "pygments_lexer": "ipython3",
   "version": "3.12.1"
  }
 },
 "nbformat": 4,
 "nbformat_minor": 5
}
