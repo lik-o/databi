{
 "cells": [
  {
   "cell_type": "code",
   "execution_count": 1,
   "id": "44afe4a8-c1d2-4f30-953a-748d838963e1",
   "metadata": {},
   "outputs": [],
   "source": [
    "class Node:\n",
    "    def __init__(self, data):\n",
    "        self.data = data\n",
    "        self.link = None\n",
    "\n",
    "def move_min_to_front(head):\n",
    "    if not head:\n",
    "        return None\n",
    "    \n",
    "    # 寻找最小节点及其前驱\n",
    "    min_node = head\n",
    "    pre_min = None\n",
    "    current = head.link\n",
    "    prev = head  # 当前节点的前驱\n",
    "    \n",
    "    while current:\n",
    "        if current.data < min_node.data:\n",
    "            min_node = current\n",
    "            pre_min = prev\n",
    "        prev = current\n",
    "        current = current.link\n",
    "    \n",
    "    # 若最小节点已在头部，直接返回\n",
    "    if min_node == head:\n",
    "        return head\n",
    "    \n",
    "    # 调整指针\n",
    "    pre_min.link = min_node.link   # 断开最小节点\n",
    "    min_node.link = head           # 将最小节点链接到原头部\n",
    "    return min_node                # 返回新的头节点\n",
    "\n",
    "def print_list(head):\n",
    "    current = head\n",
    "    while current:\n",
    "        print(current.data, end=\" -> \")\n",
    "        current = current.link\n",
    "    print(\"None\")\n",
    "\n"
   ]
  },
  {
   "cell_type": "code",
   "execution_count": 2,
   "id": "015591da-ea4f-410b-8e7b-32a8e7222c45",
   "metadata": {},
   "outputs": [
    {
     "name": "stdout",
     "output_type": "stream",
     "text": [
      "原链表：\n",
      "4 -> 2 -> 1 -> 3 -> None\n",
      "移动后的链表：\n",
      "1 -> 4 -> 2 -> 3 -> None\n"
     ]
    }
   ],
   "source": [
    "# 构造示例链表：4 -> 2 -> 1 -> 3\n",
    "n4 = Node(4)\n",
    "n2 = Node(2)\n",
    "n1 = Node(1)\n",
    "n3 = Node(3)\n",
    "n4.link = n2\n",
    "n2.link = n1\n",
    "n1.link = n3\n",
    "\n",
    "print(\"原链表：\")\n",
    "print_list(n4)  # 4 -> 2 -> 1 -> 3 -> None\n",
    "\n",
    "new_head = move_min_to_front(n4)\n",
    "print(\"移动后的链表：\")\n",
    "print_list(new_head)  # 1 -> 4 -> 2 -> 3 -> None"
   ]
  },
  {
   "cell_type": "code",
   "execution_count": null,
   "id": "8ab2ed55-f36c-4c43-a970-c479a12b578c",
   "metadata": {},
   "outputs": [],
   "source": []
  }
 ],
 "metadata": {
  "kernelspec": {
   "display_name": "Python 3 (ipykernel)",
   "language": "python",
   "name": "python3"
  },
  "language_info": {
   "codemirror_mode": {
    "name": "ipython",
    "version": 3
   },
   "file_extension": ".py",
   "mimetype": "text/x-python",
   "name": "python",
   "nbconvert_exporter": "python",
   "pygments_lexer": "ipython3",
   "version": "3.11.2"
  }
 },
 "nbformat": 4,
 "nbformat_minor": 5
}
