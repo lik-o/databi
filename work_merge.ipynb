{
 "cells": [
  {
   "cell_type": "code",
   "execution_count": 3,
   "id": "01c21bb7-4676-4d1e-bcd4-66c09a69cc6b",
   "metadata": {},
   "outputs": [],
   "source": [
    "class Node(object):\n",
    "    def __init__(self, data):\n",
    "        self.data = data\n",
    "        self.next = None\n",
    "\n",
    "class SLinkList(object):\n",
    "    def __init__(self):\n",
    "        self.head = None\n",
    "        self.length = 0\n",
    "\n",
    "    def is_empty(self):\n",
    "        return self.head is None\n",
    "\n",
    "    def add(self, p):\n",
    "        if self.is_empty():\n",
    "            self.head = p\n",
    "        else:\n",
    "            p.next = self.head\n",
    "            self.head = p\n",
    "        self.length += 1\n",
    "\n",
    "    def appendnode(self, p):\n",
    "        if self.is_empty():\n",
    "            self.add(p)\n",
    "        else:\n",
    "            q = self.head\n",
    "            while q.next is not None:\n",
    "                q = q.next\n",
    "            q.next = p\n",
    "            self.length += 1\n",
    "\n",
    "    def travel(self):\n",
    "        q = self.head\n",
    "        if self.length == 0:\n",
    "            print(\"目前链表没有数据！\")\n",
    "        else:\n",
    "            print(\"目前链表数据有：\", end=\" \")\n",
    "            for _ in range(self.length):\n",
    "                print(f\"{q.data}->\", end=\" \")\n",
    "                q = q.next\n",
    "            print(\"\\n\")\n",
    "\n",
    "def link_merge_sort_desc(l1, l2):\n",
    "    merged = SLinkList()\n",
    "    while not l1.is_empty() and not l2.is_empty():\n",
    "        if l1.head.data > l2.head.data:  \n",
    "            current = l1.head\n",
    "            l1.head = current.next\n",
    "            current.next = None\n",
    "            merged.appendnode(current)\n",
    "            l1.length -= 1\n",
    "        else:\n",
    "            current = l2.head\n",
    "            l2.head = current.next\n",
    "            current.next = None\n",
    "            merged.appendnode(current)\n",
    "            l2.length -= 1\n",
    "    while not l1.is_empty():\n",
    "        current = l1.head\n",
    "        l1.head = current.next\n",
    "        current.next = None\n",
    "        merged.appendnode(current)\n",
    "        l1.length -= 1\n",
    "\n",
    "    while not l2.is_empty():\n",
    "        current = l2.head\n",
    "        l2.head = current.next\n",
    "        current.next = None\n",
    "        merged.appendnode(current)\n",
    "        l2.length -= 1\n",
    "\n",
    "    return merged"
   ]
  },
  {
   "cell_type": "code",
   "execution_count": 4,
   "id": "40567729-79a7-4e4d-a16b-f4bd64134895",
   "metadata": {},
   "outputs": [
    {
     "name": "stdout",
     "output_type": "stream",
     "text": [
      "目前链表数据有： 6-> 5-> 4-> 3-> 2-> 1-> \n",
      "\n"
     ]
    }
   ],
   "source": [
    "l1 = SLinkList()\n",
    "for data in [1, 3, 5]:  \n",
    "    l1.add(Node(data))\n",
    "\n",
    "l2 = SLinkList()\n",
    "for data in [2, 4, 6]:\n",
    "    l2.add(Node(data))\n",
    "\n",
    "merged = link_merge_sort_desc(l1, l2)\n",
    "merged.travel()  "
   ]
  },
  {
   "cell_type": "code",
   "execution_count": null,
   "id": "4a6e058c-7e1d-44ac-b894-2f6fc0a7d641",
   "metadata": {},
   "outputs": [],
   "source": []
  }
 ],
 "metadata": {
  "kernelspec": {
   "display_name": "Python 3 (ipykernel)",
   "language": "python",
   "name": "python3"
  },
  "language_info": {
   "codemirror_mode": {
    "name": "ipython",
    "version": 3
   },
   "file_extension": ".py",
   "mimetype": "text/x-python",
   "name": "python",
   "nbconvert_exporter": "python",
   "pygments_lexer": "ipython3",
   "version": "3.11.2"
  }
 },
 "nbformat": 4,
 "nbformat_minor": 5
}
