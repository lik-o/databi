{
 "cells": [
  {
   "cell_type": "code",
   "execution_count": 1,
   "id": "72399300-2edb-4182-9983-dddc3ab626b9",
   "metadata": {},
   "outputs": [],
   "source": [
    "class Node:\n",
    "    def __init__(self, data):\n",
    "        self.data = data\n",
    "        self.link = None\n",
    "\n",
    "def move_min_to_front(head):\n",
    "    if not head:\n",
    "        return None\n",
    "    min_node = head\n",
    "    pre_min = None\n",
    "    current = head.link\n",
    "    prev = head \n",
    "    \n",
    "    while current:\n",
    "        if current.data < min_node.data:\n",
    "            min_node = current\n",
    "            pre_min = prev\n",
    "        prev = current\n",
    "        current = current.link\n",
    "    if min_node == head:\n",
    "        return head\n",
    "        \n",
    "    pre_min.link = min_node.link   \n",
    "    min_node.link = head         \n",
    "    return min_node                \n",
    "\n",
    "def print_list(head):\n",
    "    current = head\n",
    "    while current:\n",
    "        print(current.data, end=\" -> \")\n",
    "        current = current.link\n",
    "    print(\"None\")"
   ]
  },
  {
   "cell_type": "code",
   "execution_count": 2,
   "id": "7a45c11d-8afa-4f75-b5c0-41bd243a850a",
   "metadata": {},
   "outputs": [
    {
     "name": "stdout",
     "output_type": "stream",
     "text": [
      "原链表：\n",
      "4 -> 2 -> 1 -> 3 -> None\n",
      "移动后的链表：\n",
      "1 -> 4 -> 2 -> 3 -> None\n"
     ]
    }
   ],
   "source": [
    "n4 = Node(4)\n",
    "n2 = Node(2)\n",
    "n1 = Node(1)\n",
    "n3 = Node(3)\n",
    "n4.link = n2\n",
    "n2.link = n1\n",
    "n1.link = n3\n",
    "\n",
    "print(\"原链表：\")\n",
    "print_list(n4)  \n",
    "\n",
    "new_head = move_min_to_front(n4)\n",
    "print(\"移动后的链表：\")\n",
    "print_list(new_head)  "
   ]
  },
  {
   "cell_type": "code",
   "execution_count": null,
   "id": "02eaf004-3ac9-4a2f-820d-880342c58eba",
   "metadata": {},
   "outputs": [],
   "source": []
  }
 ],
 "metadata": {
  "kernelspec": {
   "display_name": "Python 3 (ipykernel)",
   "language": "python",
   "name": "python3"
  },
  "language_info": {
   "codemirror_mode": {
    "name": "ipython",
    "version": 3
   },
   "file_extension": ".py",
   "mimetype": "text/x-python",
   "name": "python",
   "nbconvert_exporter": "python",
   "pygments_lexer": "ipython3",
   "version": "3.11.2"
  }
 },
 "nbformat": 4,
 "nbformat_minor": 5
}
